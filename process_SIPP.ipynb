{
 "cells": [
  {
   "cell_type": "code",
   "execution_count": 1,
   "id": "368f3cda-c694-4001-b044-20c08fe9b83f",
   "metadata": {},
   "outputs": [],
   "source": [
    "import pandas as pd\n",
    "import os\n",
    "from pathlib import Path, PureWindowsPath\n",
    "from pycps import get_asec"
   ]
  },
  {
   "cell_type": "code",
   "execution_count": 2,
   "id": "44c247cc-27cb-478e-b894-fe089dfc5262",
   "metadata": {},
   "outputs": [],
   "source": [
    "os.environ['CENSUS_API_KEY'] = '65e39e1a42641c529d8c890ff8837033a7ba0da2'"
   ]
  },
  {
   "cell_type": "markdown",
   "id": "2187f802-17bd-4eb7-8a90-bd53fb680f91",
   "metadata": {},
   "source": [
    "# Load FIPS to state/county file in"
   ]
  },
  {
   "cell_type": "code",
   "execution_count": 3,
   "id": "ce46fb5a-a432-4dd5-a927-b958f3198f75",
   "metadata": {},
   "outputs": [],
   "source": [
    "filename = 'cbsa2fipsxw.csv'\n",
    "url = Path(PureWindowsPath('C:\\\\Users\\\\woodn\\\\github\\\\UCSD_MDS\\\\DSC267R'))\n",
    "filepath = url / filename\n",
    "df_geomap = pd.read_csv(filepath,\n",
    "                        on_bad_lines = 'warn',\n",
    "                        low_memory = False\n",
    "                       ).loc[:,['countycountyequivalent'\n",
    "                                ,'statename'\n",
    "                                ,'fipsstatecode'\n",
    "                                ,'fipscountycode'\n",
    "                               ]\n",
    "                            ].rename(columns={'statename':'state'\n",
    "                                              , 'countycountyequivalent':'county'\n",
    "                                             }\n",
    "                                    ).dropna().astype({'fipsstatecode':'int64',\n",
    "                                                       'fipscountycode':'int64'\n",
    "                                                      }\n",
    "                                                     )"
   ]
  },
  {
   "cell_type": "code",
   "execution_count": 4,
   "id": "9f781286-c44f-4d30-9367-6a5f85a16847",
   "metadata": {},
   "outputs": [
    {
     "data": {
      "text/html": [
       "<div>\n",
       "<style scoped>\n",
       "    .dataframe tbody tr th:only-of-type {\n",
       "        vertical-align: middle;\n",
       "    }\n",
       "\n",
       "    .dataframe tbody tr th {\n",
       "        vertical-align: top;\n",
       "    }\n",
       "\n",
       "    .dataframe thead th {\n",
       "        text-align: right;\n",
       "    }\n",
       "</style>\n",
       "<table border=\"1\" class=\"dataframe\">\n",
       "  <thead>\n",
       "    <tr style=\"text-align: right;\">\n",
       "      <th></th>\n",
       "      <th>county</th>\n",
       "      <th>state</th>\n",
       "      <th>fipsstatecode</th>\n",
       "      <th>fipscountycode</th>\n",
       "    </tr>\n",
       "  </thead>\n",
       "  <tbody>\n",
       "    <tr>\n",
       "      <th>999</th>\n",
       "      <td>Lea County</td>\n",
       "      <td>New Mexico</td>\n",
       "      <td>35</td>\n",
       "      <td>25</td>\n",
       "    </tr>\n",
       "    <tr>\n",
       "      <th>721</th>\n",
       "      <td>Benzie County</td>\n",
       "      <td>Michigan</td>\n",
       "      <td>26</td>\n",
       "      <td>19</td>\n",
       "    </tr>\n",
       "    <tr>\n",
       "      <th>1260</th>\n",
       "      <td>Clackamas County</td>\n",
       "      <td>Oregon</td>\n",
       "      <td>41</td>\n",
       "      <td>5</td>\n",
       "    </tr>\n",
       "  </tbody>\n",
       "</table>\n",
       "</div>"
      ],
      "text/plain": [
       "                county       state  fipsstatecode  fipscountycode\n",
       "999         Lea County  New Mexico             35              25\n",
       "721      Benzie County    Michigan             26              19\n",
       "1260  Clackamas County      Oregon             41               5"
      ]
     },
     "execution_count": 4,
     "metadata": {},
     "output_type": "execute_result"
    }
   ],
   "source": [
    "df_geomap.sample(3)"
   ]
  },
  {
   "cell_type": "code",
   "execution_count": 5,
   "id": "c973b503-c36d-42be-baff-f9e687aa1143",
   "metadata": {},
   "outputs": [],
   "source": [
    "df_geomap.loc[:,'county'] = df_geomap.loc[:,'county']\\\n",
    "                                        .str.replace(' County', '', case=False, regex=True)\\\n",
    "                                        .str.replace(' Parish', '', case=False, regex=True)\\\n",
    "                                        .str.replace(' Municipio', '', case=False, regex=True)\\\n",
    "                                        .str.replace(' city', '', case=False, regex=True)"
   ]
  },
  {
   "cell_type": "code",
   "execution_count": 6,
   "id": "7dfe2065-ca27-4514-879b-34f5c425d455",
   "metadata": {},
   "outputs": [
    {
     "data": {
      "text/html": [
       "<div>\n",
       "<style scoped>\n",
       "    .dataframe tbody tr th:only-of-type {\n",
       "        vertical-align: middle;\n",
       "    }\n",
       "\n",
       "    .dataframe tbody tr th {\n",
       "        vertical-align: top;\n",
       "    }\n",
       "\n",
       "    .dataframe thead th {\n",
       "        text-align: right;\n",
       "    }\n",
       "</style>\n",
       "<table border=\"1\" class=\"dataframe\">\n",
       "  <thead>\n",
       "    <tr style=\"text-align: right;\">\n",
       "      <th></th>\n",
       "      <th>county</th>\n",
       "      <th>state</th>\n",
       "      <th>fipsstatecode</th>\n",
       "      <th>fipscountycode</th>\n",
       "    </tr>\n",
       "  </thead>\n",
       "  <tbody>\n",
       "    <tr>\n",
       "      <th>1379</th>\n",
       "      <td>Brown</td>\n",
       "      <td>South Dakota</td>\n",
       "      <td>46</td>\n",
       "      <td>13</td>\n",
       "    </tr>\n",
       "    <tr>\n",
       "      <th>392</th>\n",
       "      <td>Knox</td>\n",
       "      <td>Illinois</td>\n",
       "      <td>17</td>\n",
       "      <td>95</td>\n",
       "    </tr>\n",
       "    <tr>\n",
       "      <th>1402</th>\n",
       "      <td>Campbell</td>\n",
       "      <td>Tennessee</td>\n",
       "      <td>47</td>\n",
       "      <td>13</td>\n",
       "    </tr>\n",
       "  </tbody>\n",
       "</table>\n",
       "</div>"
      ],
      "text/plain": [
       "        county         state  fipsstatecode  fipscountycode\n",
       "1379     Brown  South Dakota             46              13\n",
       "392       Knox      Illinois             17              95\n",
       "1402  Campbell     Tennessee             47              13"
      ]
     },
     "execution_count": 6,
     "metadata": {},
     "output_type": "execute_result"
    }
   ],
   "source": [
    "df_geomap.sample(3)"
   ]
  },
  {
   "cell_type": "code",
   "execution_count": 7,
   "id": "4a33ebbc-3dde-4737-945c-475382cf9aaa",
   "metadata": {},
   "outputs": [
    {
     "name": "stdout",
     "output_type": "stream",
     "text": [
      "<class 'pandas.core.frame.DataFrame'>\n",
      "Int64Index: 1882 entries, 1 to 1882\n",
      "Data columns (total 4 columns):\n",
      " #   Column          Non-Null Count  Dtype \n",
      "---  ------          --------------  ----- \n",
      " 0   county          1882 non-null   object\n",
      " 1   state           1882 non-null   object\n",
      " 2   fipsstatecode   1882 non-null   int64 \n",
      " 3   fipscountycode  1882 non-null   int64 \n",
      "dtypes: int64(2), object(2)\n",
      "memory usage: 73.5+ KB\n"
     ]
    }
   ],
   "source": [
    "df_geomap.info()"
   ]
  },
  {
   "cell_type": "markdown",
   "id": "01f79f54-27cc-4f22-87a5-70fc6aa94709",
   "metadata": {},
   "source": [
    "# Load ASEC data"
   ]
  },
  {
   "cell_type": "code",
   "execution_count": 10,
   "id": "4d579cef-172a-44f6-8286-9bc0a55f7a76",
   "metadata": {},
   "outputs": [],
   "source": [
    "def pull_asec(year):\n",
    "    if year < 2010:\n",
    "        cols = ['GESTFIPS', 'GTCO', 'HUFAMINC']\n",
    "    else:\n",
    "        cols = ['GESTFIPS', 'GTCO', 'HEFAMINC']\n",
    "    df_ret = get_asec(year, cols).rename(columns={'gestfips':'fipsstatecode'\n",
    "                                                  ,'gtco':'fipscountycode'\n",
    "                                                 }\n",
    "                                        )\n",
    "    df_ret.loc[:,'year'] = year\n",
    "    return df_ret"
   ]
  },
  {
   "cell_type": "code",
   "execution_count": 11,
   "id": "a048144d-25be-45b9-ae69-b6e0e5b9b23e",
   "metadata": {},
   "outputs": [
    {
     "name": "stdout",
     "output_type": "stream",
     "text": [
      "Getting CPS ASEC microdata for 2005\n",
      "Getting CPS ASEC microdata for 2006\n",
      "Getting CPS ASEC microdata for 2007\n",
      "Getting CPS ASEC microdata for 2008\n",
      "Getting CPS ASEC microdata for 2009\n",
      "Getting CPS ASEC microdata for 2010\n",
      "Getting CPS ASEC microdata for 2011\n",
      "Getting CPS ASEC microdata for 2012\n",
      "Getting CPS ASEC microdata for 2013\n",
      "Getting CPS ASEC microdata for 2014\n",
      "Getting CPS ASEC microdata for 2015\n",
      "Getting CPS ASEC microdata for 2016\n",
      "Getting CPS ASEC microdata for 2017\n",
      "Getting CPS ASEC microdata for 2018\n",
      "Getting CPS ASEC microdata for 2019\n",
      "Getting CPS ASEC microdata for 2020\n",
      "Getting CPS ASEC microdata for 2021\n",
      "Getting CPS ASEC microdata for 2022\n"
     ]
    }
   ],
   "source": [
    "start = 2005\n",
    "for a in range(start,2023):\n",
    "    if a == start:\n",
    "        df_asec = pull_asec(a)\n",
    "    else:\n",
    "        df_asec =  pd.concat([df_asec, pull_asec(a)], ignore_index=True)"
   ]
  },
  {
   "cell_type": "code",
   "execution_count": 13,
   "id": "16dab520-9adf-46c3-aab3-d2f7a88c3dd1",
   "metadata": {},
   "outputs": [],
   "source": [
    "df_asec = df_asec.apply(pd.to_numeric)"
   ]
  },
  {
   "cell_type": "code",
   "execution_count": 15,
   "id": "5cfbb14e-6ad5-4ce1-a0f1-e08292e18146",
   "metadata": {},
   "outputs": [
    {
     "name": "stdout",
     "output_type": "stream",
     "text": [
      "<class 'pandas.core.frame.DataFrame'>\n",
      "RangeIndex: 1654348 entries, 0 to 1654347\n",
      "Data columns (total 5 columns):\n",
      " #   Column          Non-Null Count    Dtype  \n",
      "---  ------          --------------    -----  \n",
      " 0   fipsstatecode   1654348 non-null  int64  \n",
      " 1   fipscountycode  1654348 non-null  int64  \n",
      " 2   hufaminc        488599 non-null   float64\n",
      " 3   year            1654348 non-null  int64  \n",
      " 4   hefaminc        1165749 non-null  float64\n",
      "dtypes: float64(2), int64(3)\n",
      "memory usage: 63.1 MB\n"
     ]
    }
   ],
   "source": [
    "df_asec.info()"
   ]
  },
  {
   "cell_type": "markdown",
   "id": "b608d6dd-a849-4a4d-8c8c-8ad833c84d18",
   "metadata": {},
   "source": [
    "# Convert to state/county to match other datasets"
   ]
  },
  {
   "cell_type": "code",
   "execution_count": 16,
   "id": "c936895a-245c-41f3-bf01-3169404aa3b1",
   "metadata": {},
   "outputs": [
    {
     "data": {
      "text/html": [
       "<div>\n",
       "<style scoped>\n",
       "    .dataframe tbody tr th:only-of-type {\n",
       "        vertical-align: middle;\n",
       "    }\n",
       "\n",
       "    .dataframe tbody tr th {\n",
       "        vertical-align: top;\n",
       "    }\n",
       "\n",
       "    .dataframe thead th {\n",
       "        text-align: right;\n",
       "    }\n",
       "</style>\n",
       "<table border=\"1\" class=\"dataframe\">\n",
       "  <thead>\n",
       "    <tr style=\"text-align: right;\">\n",
       "      <th></th>\n",
       "      <th>fipsstatecode</th>\n",
       "      <th>fipscountycode</th>\n",
       "      <th>hufaminc</th>\n",
       "      <th>year</th>\n",
       "      <th>hefaminc</th>\n",
       "    </tr>\n",
       "  </thead>\n",
       "  <tbody>\n",
       "    <tr>\n",
       "      <th>338000</th>\n",
       "      <td>24</td>\n",
       "      <td>17</td>\n",
       "      <td>16.0</td>\n",
       "      <td>2008</td>\n",
       "      <td>NaN</td>\n",
       "    </tr>\n",
       "    <tr>\n",
       "      <th>1365210</th>\n",
       "      <td>35</td>\n",
       "      <td>13</td>\n",
       "      <td>NaN</td>\n",
       "      <td>2019</td>\n",
       "      <td>4.0</td>\n",
       "    </tr>\n",
       "    <tr>\n",
       "      <th>232998</th>\n",
       "      <td>46</td>\n",
       "      <td>0</td>\n",
       "      <td>4.0</td>\n",
       "      <td>2007</td>\n",
       "      <td>NaN</td>\n",
       "    </tr>\n",
       "    <tr>\n",
       "      <th>406815</th>\n",
       "      <td>34</td>\n",
       "      <td>13</td>\n",
       "      <td>9.0</td>\n",
       "      <td>2009</td>\n",
       "      <td>NaN</td>\n",
       "    </tr>\n",
       "    <tr>\n",
       "      <th>1158585</th>\n",
       "      <td>28</td>\n",
       "      <td>0</td>\n",
       "      <td>NaN</td>\n",
       "      <td>2017</td>\n",
       "      <td>3.0</td>\n",
       "    </tr>\n",
       "    <tr>\n",
       "      <th>110747</th>\n",
       "      <td>36</td>\n",
       "      <td>47</td>\n",
       "      <td>10.0</td>\n",
       "      <td>2006</td>\n",
       "      <td>NaN</td>\n",
       "    </tr>\n",
       "    <tr>\n",
       "      <th>69859</th>\n",
       "      <td>12</td>\n",
       "      <td>103</td>\n",
       "      <td>10.0</td>\n",
       "      <td>2005</td>\n",
       "      <td>NaN</td>\n",
       "    </tr>\n",
       "    <tr>\n",
       "      <th>443647</th>\n",
       "      <td>45</td>\n",
       "      <td>0</td>\n",
       "      <td>7.0</td>\n",
       "      <td>2009</td>\n",
       "      <td>NaN</td>\n",
       "    </tr>\n",
       "    <tr>\n",
       "      <th>300817</th>\n",
       "      <td>44</td>\n",
       "      <td>0</td>\n",
       "      <td>-1.0</td>\n",
       "      <td>2008</td>\n",
       "      <td>NaN</td>\n",
       "    </tr>\n",
       "    <tr>\n",
       "      <th>1300435</th>\n",
       "      <td>34</td>\n",
       "      <td>0</td>\n",
       "      <td>NaN</td>\n",
       "      <td>2019</td>\n",
       "      <td>16.0</td>\n",
       "    </tr>\n",
       "  </tbody>\n",
       "</table>\n",
       "</div>"
      ],
      "text/plain": [
       "         fipsstatecode  fipscountycode  hufaminc  year  hefaminc\n",
       "338000              24              17      16.0  2008       NaN\n",
       "1365210             35              13       NaN  2019       4.0\n",
       "232998              46               0       4.0  2007       NaN\n",
       "406815              34              13       9.0  2009       NaN\n",
       "1158585             28               0       NaN  2017       3.0\n",
       "110747              36              47      10.0  2006       NaN\n",
       "69859               12             103      10.0  2005       NaN\n",
       "443647              45               0       7.0  2009       NaN\n",
       "300817              44               0      -1.0  2008       NaN\n",
       "1300435             34               0       NaN  2019      16.0"
      ]
     },
     "execution_count": 16,
     "metadata": {},
     "output_type": "execute_result"
    }
   ],
   "source": [
    "df_asec.sample(10)"
   ]
  },
  {
   "cell_type": "code",
   "execution_count": 17,
   "id": "0dc78c36-de73-4b1b-9a7d-3864c4e03039",
   "metadata": {},
   "outputs": [
    {
     "name": "stdout",
     "output_type": "stream",
     "text": [
      "<class 'pandas.core.frame.DataFrame'>\n",
      "RangeIndex: 1654348 entries, 0 to 1654347\n",
      "Data columns (total 5 columns):\n",
      " #   Column          Non-Null Count    Dtype  \n",
      "---  ------          --------------    -----  \n",
      " 0   fipsstatecode   1654348 non-null  int64  \n",
      " 1   fipscountycode  1654348 non-null  int64  \n",
      " 2   hufaminc        488599 non-null   float64\n",
      " 3   year            1654348 non-null  int64  \n",
      " 4   hefaminc        1165749 non-null  float64\n",
      "dtypes: float64(2), int64(3)\n",
      "memory usage: 63.1 MB\n"
     ]
    }
   ],
   "source": [
    "df_asec.info()"
   ]
  },
  {
   "cell_type": "code",
   "execution_count": 18,
   "id": "446ff75e-60fc-4a5f-97f7-52718307a71c",
   "metadata": {},
   "outputs": [],
   "source": [
    "mask_new = df_asec['hefaminc'].isna()\n",
    "df_asec.loc[mask_new, 'hefaminc'] = df_asec.loc[mask_new, 'hufaminc']"
   ]
  },
  {
   "cell_type": "code",
   "execution_count": 19,
   "id": "9533806a-673a-4b14-9e5d-586f3ec62f1c",
   "metadata": {},
   "outputs": [],
   "source": [
    "df_new = pd.merge(df_asec, \n",
    "                  df_geomap, \n",
    "                  how = 'left',\n",
    "                  left_on = ['fipscountycode','fipsstatecode'],\n",
    "                  right_on = ['fipscountycode','fipsstatecode']\n",
    "                 )"
   ]
  },
  {
   "cell_type": "code",
   "execution_count": 20,
   "id": "b2aadc01-f4cd-4a2a-9f6d-8451ccebf862",
   "metadata": {},
   "outputs": [],
   "source": [
    "drop_list = ['hufaminc', 'fipsstatecode', 'fipscountycode']\n",
    "df_new = df_new.drop(columns = drop_list)"
   ]
  },
  {
   "cell_type": "code",
   "execution_count": 21,
   "id": "4afcac3f-334d-41c4-b7a8-99abe05e6ca2",
   "metadata": {},
   "outputs": [
    {
     "data": {
      "text/html": [
       "<div>\n",
       "<style scoped>\n",
       "    .dataframe tbody tr th:only-of-type {\n",
       "        vertical-align: middle;\n",
       "    }\n",
       "\n",
       "    .dataframe tbody tr th {\n",
       "        vertical-align: top;\n",
       "    }\n",
       "\n",
       "    .dataframe thead th {\n",
       "        text-align: right;\n",
       "    }\n",
       "</style>\n",
       "<table border=\"1\" class=\"dataframe\">\n",
       "  <thead>\n",
       "    <tr style=\"text-align: right;\">\n",
       "      <th></th>\n",
       "      <th>year</th>\n",
       "      <th>hefaminc</th>\n",
       "      <th>county</th>\n",
       "      <th>state</th>\n",
       "    </tr>\n",
       "  </thead>\n",
       "  <tbody>\n",
       "    <tr>\n",
       "      <th>1442341</th>\n",
       "      <td>2020</td>\n",
       "      <td>1.0</td>\n",
       "      <td>NaN</td>\n",
       "      <td>NaN</td>\n",
       "    </tr>\n",
       "    <tr>\n",
       "      <th>625352</th>\n",
       "      <td>2011</td>\n",
       "      <td>-1.0</td>\n",
       "      <td>NaN</td>\n",
       "      <td>NaN</td>\n",
       "    </tr>\n",
       "    <tr>\n",
       "      <th>204036</th>\n",
       "      <td>2007</td>\n",
       "      <td>15.0</td>\n",
       "      <td>NaN</td>\n",
       "      <td>NaN</td>\n",
       "    </tr>\n",
       "    <tr>\n",
       "      <th>1064817</th>\n",
       "      <td>2016</td>\n",
       "      <td>10.0</td>\n",
       "      <td>NaN</td>\n",
       "      <td>NaN</td>\n",
       "    </tr>\n",
       "    <tr>\n",
       "      <th>86504</th>\n",
       "      <td>2005</td>\n",
       "      <td>9.0</td>\n",
       "      <td>Kent</td>\n",
       "      <td>Delaware</td>\n",
       "    </tr>\n",
       "    <tr>\n",
       "      <th>...</th>\n",
       "      <td>...</td>\n",
       "      <td>...</td>\n",
       "      <td>...</td>\n",
       "      <td>...</td>\n",
       "    </tr>\n",
       "    <tr>\n",
       "      <th>243771</th>\n",
       "      <td>2007</td>\n",
       "      <td>-2.0</td>\n",
       "      <td>Chesapeake</td>\n",
       "      <td>Virginia</td>\n",
       "    </tr>\n",
       "    <tr>\n",
       "      <th>314399</th>\n",
       "      <td>2008</td>\n",
       "      <td>8.0</td>\n",
       "      <td>Cuyahoga</td>\n",
       "      <td>Ohio</td>\n",
       "    </tr>\n",
       "    <tr>\n",
       "      <th>1039291</th>\n",
       "      <td>2016</td>\n",
       "      <td>11.0</td>\n",
       "      <td>NaN</td>\n",
       "      <td>NaN</td>\n",
       "    </tr>\n",
       "    <tr>\n",
       "      <th>316549</th>\n",
       "      <td>2008</td>\n",
       "      <td>-1.0</td>\n",
       "      <td>NaN</td>\n",
       "      <td>NaN</td>\n",
       "    </tr>\n",
       "    <tr>\n",
       "      <th>180460</th>\n",
       "      <td>2006</td>\n",
       "      <td>15.0</td>\n",
       "      <td>NaN</td>\n",
       "      <td>NaN</td>\n",
       "    </tr>\n",
       "  </tbody>\n",
       "</table>\n",
       "<p>100 rows × 4 columns</p>\n",
       "</div>"
      ],
      "text/plain": [
       "         year  hefaminc      county     state\n",
       "1442341  2020       1.0         NaN       NaN\n",
       "625352   2011      -1.0         NaN       NaN\n",
       "204036   2007      15.0         NaN       NaN\n",
       "1064817  2016      10.0         NaN       NaN\n",
       "86504    2005       9.0        Kent  Delaware\n",
       "...       ...       ...         ...       ...\n",
       "243771   2007      -2.0  Chesapeake  Virginia\n",
       "314399   2008       8.0    Cuyahoga      Ohio\n",
       "1039291  2016      11.0         NaN       NaN\n",
       "316549   2008      -1.0         NaN       NaN\n",
       "180460   2006      15.0         NaN       NaN\n",
       "\n",
       "[100 rows x 4 columns]"
      ]
     },
     "execution_count": 21,
     "metadata": {},
     "output_type": "execute_result"
    }
   ],
   "source": [
    "df_new.sample(100)"
   ]
  },
  {
   "cell_type": "code",
   "execution_count": 22,
   "id": "1955f8dd-a885-4b95-8e13-34ba948fb8b5",
   "metadata": {},
   "outputs": [],
   "source": [
    "mask = df_new.loc[:,'hefaminc'] > 0\n",
    "df_new = df_new.loc[mask,:]"
   ]
  },
  {
   "cell_type": "code",
   "execution_count": 23,
   "id": "80201bea-ac69-4b28-bd01-ec4f1e3506d9",
   "metadata": {},
   "outputs": [],
   "source": [
    "df_new = df_new.dropna()"
   ]
  },
  {
   "cell_type": "code",
   "execution_count": 24,
   "id": "7b73f122-8d22-4a47-994c-56308528fe42",
   "metadata": {},
   "outputs": [
    {
     "name": "stdout",
     "output_type": "stream",
     "text": [
      "<class 'pandas.core.frame.DataFrame'>\n",
      "Int64Index: 504250 entries, 18 to 1654347\n",
      "Data columns (total 4 columns):\n",
      " #   Column    Non-Null Count   Dtype  \n",
      "---  ------    --------------   -----  \n",
      " 0   year      504250 non-null  int64  \n",
      " 1   hefaminc  504250 non-null  float64\n",
      " 2   county    504250 non-null  object \n",
      " 3   state     504250 non-null  object \n",
      "dtypes: float64(1), int64(1), object(2)\n",
      "memory usage: 19.2+ MB\n"
     ]
    }
   ],
   "source": [
    "df_new.info()"
   ]
  },
  {
   "cell_type": "markdown",
   "id": "3c33dc4e-e946-4921-9eb7-b3ad75ada606",
   "metadata": {},
   "source": [
    "# Build median for each state, county, year"
   ]
  },
  {
   "cell_type": "code",
   "execution_count": 25,
   "id": "f77a907a-6b80-4b59-b52f-46ca60c61fab",
   "metadata": {},
   "outputs": [],
   "source": [
    "df_gb = df_new.groupby(by=['state','county','year'], as_index=False)"
   ]
  },
  {
   "cell_type": "code",
   "execution_count": 26,
   "id": "6ed9462d-4363-42b7-9b49-b99777cf954f",
   "metadata": {},
   "outputs": [],
   "source": [
    "df_blah = df_gb.median()"
   ]
  },
  {
   "cell_type": "code",
   "execution_count": 27,
   "id": "fef754f0-372c-4ace-8cd5-0c3582139f91",
   "metadata": {},
   "outputs": [
    {
     "data": {
      "text/html": [
       "<div>\n",
       "<style scoped>\n",
       "    .dataframe tbody tr th:only-of-type {\n",
       "        vertical-align: middle;\n",
       "    }\n",
       "\n",
       "    .dataframe tbody tr th {\n",
       "        vertical-align: top;\n",
       "    }\n",
       "\n",
       "    .dataframe thead th {\n",
       "        text-align: right;\n",
       "    }\n",
       "</style>\n",
       "<table border=\"1\" class=\"dataframe\">\n",
       "  <thead>\n",
       "    <tr style=\"text-align: right;\">\n",
       "      <th></th>\n",
       "      <th>state</th>\n",
       "      <th>county</th>\n",
       "      <th>year</th>\n",
       "      <th>hefaminc</th>\n",
       "    </tr>\n",
       "  </thead>\n",
       "  <tbody>\n",
       "    <tr>\n",
       "      <th>1130</th>\n",
       "      <td>Florida</td>\n",
       "      <td>Marion</td>\n",
       "      <td>2012</td>\n",
       "      <td>9.0</td>\n",
       "    </tr>\n",
       "    <tr>\n",
       "      <th>2381</th>\n",
       "      <td>Michigan</td>\n",
       "      <td>Genesee</td>\n",
       "      <td>2017</td>\n",
       "      <td>9.0</td>\n",
       "    </tr>\n",
       "    <tr>\n",
       "      <th>5181</th>\n",
       "      <td>Wisconsin</td>\n",
       "      <td>Winnebago</td>\n",
       "      <td>2021</td>\n",
       "      <td>13.0</td>\n",
       "    </tr>\n",
       "    <tr>\n",
       "      <th>1118</th>\n",
       "      <td>Florida</td>\n",
       "      <td>Lee</td>\n",
       "      <td>2019</td>\n",
       "      <td>11.0</td>\n",
       "    </tr>\n",
       "    <tr>\n",
       "      <th>85</th>\n",
       "      <td>Arizona</td>\n",
       "      <td>Cochise</td>\n",
       "      <td>2010</td>\n",
       "      <td>10.0</td>\n",
       "    </tr>\n",
       "    <tr>\n",
       "      <th>1166</th>\n",
       "      <td>Florida</td>\n",
       "      <td>Miami-Dade</td>\n",
       "      <td>2022</td>\n",
       "      <td>11.0</td>\n",
       "    </tr>\n",
       "    <tr>\n",
       "      <th>4795</th>\n",
       "      <td>Virginia</td>\n",
       "      <td>Chesapeake</td>\n",
       "      <td>2020</td>\n",
       "      <td>15.0</td>\n",
       "    </tr>\n",
       "    <tr>\n",
       "      <th>4657</th>\n",
       "      <td>Texas</td>\n",
       "      <td>Potter</td>\n",
       "      <td>2012</td>\n",
       "      <td>8.0</td>\n",
       "    </tr>\n",
       "    <tr>\n",
       "      <th>3049</th>\n",
       "      <td>New Jersey</td>\n",
       "      <td>Somerset</td>\n",
       "      <td>2012</td>\n",
       "      <td>15.0</td>\n",
       "    </tr>\n",
       "    <tr>\n",
       "      <th>3573</th>\n",
       "      <td>North Carolina</td>\n",
       "      <td>Union</td>\n",
       "      <td>2005</td>\n",
       "      <td>14.0</td>\n",
       "    </tr>\n",
       "  </tbody>\n",
       "</table>\n",
       "</div>"
      ],
      "text/plain": [
       "               state      county  year  hefaminc\n",
       "1130         Florida      Marion  2012       9.0\n",
       "2381        Michigan     Genesee  2017       9.0\n",
       "5181       Wisconsin   Winnebago  2021      13.0\n",
       "1118         Florida         Lee  2019      11.0\n",
       "85           Arizona     Cochise  2010      10.0\n",
       "1166         Florida  Miami-Dade  2022      11.0\n",
       "4795        Virginia  Chesapeake  2020      15.0\n",
       "4657           Texas      Potter  2012       8.0\n",
       "3049      New Jersey    Somerset  2012      15.0\n",
       "3573  North Carolina       Union  2005      14.0"
      ]
     },
     "execution_count": 27,
     "metadata": {},
     "output_type": "execute_result"
    }
   ],
   "source": [
    "df_blah.sample(10)"
   ]
  },
  {
   "cell_type": "code",
   "execution_count": 31,
   "id": "d650831c-d451-4184-a751-07dc6387e681",
   "metadata": {},
   "outputs": [],
   "source": [
    "df_blah = df_blah.astype({'hefaminc':'int64'})"
   ]
  },
  {
   "cell_type": "markdown",
   "id": "36f2d7ee-8ed6-410a-a8e3-e35c794bc8cc",
   "metadata": {},
   "source": [
    "# Write out to dataset"
   ]
  },
  {
   "cell_type": "code",
   "execution_count": 32,
   "id": "2d38a5d7-2932-4157-b282-d434d58bfcc2",
   "metadata": {},
   "outputs": [],
   "source": [
    "filename2 = 'ASEC_income.csv.gz'\n",
    "url2 = Path(PureWindowsPath('C:\\\\Users\\\\woodn\\\\github\\\\datasets'))\n",
    "filepath2 = url2 / filename2"
   ]
  },
  {
   "cell_type": "code",
   "execution_count": 34,
   "id": "d03fe146-98cf-4848-ad56-17f7c4d7b2ba",
   "metadata": {},
   "outputs": [],
   "source": [
    "df_blah.to_csv(filepath2,\n",
    "               index = False,\n",
    "               compression = 'gzip'\n",
    "              )"
   ]
  },
  {
   "cell_type": "code",
   "execution_count": null,
   "id": "5a5cdc02-9b10-4d6f-a36d-14c1c91de856",
   "metadata": {},
   "outputs": [],
   "source": []
  }
 ],
 "metadata": {
  "kernelspec": {
   "display_name": "Python 3 (ipykernel)",
   "language": "python",
   "name": "python3"
  },
  "language_info": {
   "codemirror_mode": {
    "name": "ipython",
    "version": 3
   },
   "file_extension": ".py",
   "mimetype": "text/x-python",
   "name": "python",
   "nbconvert_exporter": "python",
   "pygments_lexer": "ipython3",
   "version": "3.10.9"
  }
 },
 "nbformat": 4,
 "nbformat_minor": 5
}
