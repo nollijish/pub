{
 "cells": [
  {
   "cell_type": "code",
   "execution_count": 1,
   "id": "fdf10bd2-1c92-4205-afc1-006b8b74ddca",
   "metadata": {},
   "outputs": [],
   "source": [
    "import pandas as pd\n",
    "import os\n",
    "from pathlib import Path, PureWindowsPath\n",
    "import numpy as np"
   ]
  },
  {
   "cell_type": "markdown",
   "id": "31bf2511-9519-4eb8-b49e-f98aec3d3970",
   "metadata": {},
   "source": [
    "# Load file in"
   ]
  },
  {
   "cell_type": "code",
   "execution_count": 2,
   "id": "f70faa68-e905-4df4-bd40-e25f259474fc",
   "metadata": {},
   "outputs": [],
   "source": [
    "filename = 'IndividualsAndHouseholdsProgramValidRegistrations.csv'\n",
    "url = Path(PureWindowsPath('C:\\\\Users\\\\woodn\\\\github\\\\UCSD_MDS\\\\DSC267R'))"
   ]
  },
  {
   "cell_type": "code",
   "execution_count": 3,
   "id": "928f5be4-e872-4d6b-aff7-f4dd36f17530",
   "metadata": {},
   "outputs": [],
   "source": [
    "filepath = url / filename"
   ]
  },
  {
   "cell_type": "code",
   "execution_count": 4,
   "id": "d4d677c4-0c90-4f5a-b66b-3a7827ffc7cd",
   "metadata": {},
   "outputs": [],
   "source": [
    "df = pd.read_csv(filepath,\n",
    "                 on_bad_lines = 'warn',\n",
    "                 low_memory = False\n",
    "                )"
   ]
  },
  {
   "cell_type": "code",
   "execution_count": 5,
   "id": "b6442863-8b77-409d-bfed-051b1eda737f",
   "metadata": {},
   "outputs": [
    {
     "name": "stdout",
     "output_type": "stream",
     "text": [
      "<class 'pandas.core.frame.DataFrame'>\n",
      "RangeIndex: 20644428 entries, 0 to 20644427\n",
      "Data columns (total 71 columns):\n",
      " #   Column                         Dtype  \n",
      "---  ------                         -----  \n",
      " 0   incidentType                   object \n",
      " 1   declarationDate                object \n",
      " 2   disasterNumber                 int64  \n",
      " 3   county                         object \n",
      " 4   damagedStateAbbreviation       object \n",
      " 5   damagedCity                    object \n",
      " 6   damagedZipCode                 object \n",
      " 7   applicantAge                   object \n",
      " 8   householdComposition           object \n",
      " 9   occupantsUnderTwo              object \n",
      " 10  occupants2to5                  object \n",
      " 11  occupants6to18                 object \n",
      " 12  occupants19to64                object \n",
      " 13  occupants65andOver             object \n",
      " 14  grossIncome                    object \n",
      " 15  ownRent                        object \n",
      " 16  primaryResidence               float64\n",
      " 17  residenceType                  object \n",
      " 18  homeOwnersInsurance            int64  \n",
      " 19  floodInsurance                 int64  \n",
      " 20  registrationMethod             object \n",
      " 21  ihpReferral                    int64  \n",
      " 22  ihpEligible                    int64  \n",
      " 23  ihpAmount                      float64\n",
      " 24  fipAmount                      float64\n",
      " 25  haReferral                     int64  \n",
      " 26  haEligible                     int64  \n",
      " 27  haAmount                       float64\n",
      " 28  haStatus                       object \n",
      " 29  onaReferral                    int64  \n",
      " 30  onaEligible                    int64  \n",
      " 31  onaAmount                      float64\n",
      " 32  utilitiesOut                   float64\n",
      " 33  homeDamage                     float64\n",
      " 34  autoDamage                     float64\n",
      " 35  emergencyNeeds                 float64\n",
      " 36  foodNeed                       float64\n",
      " 37  shelterNeed                    float64\n",
      " 38  accessFunctionalNeeds          int64  \n",
      " 39  sbaEligible                    float64\n",
      " 40  sbaApproved                    int64  \n",
      " 41  inspnIssued                    int64  \n",
      " 42  inspnReturned                  int64  \n",
      " 43  habitabilityRepairsRequired    float64\n",
      " 44  rpfvl                          float64\n",
      " 45  ppfvl                          float64\n",
      " 46  renterDamageLevel              object \n",
      " 47  destroyed                      int64  \n",
      " 48  waterLevel                     int64  \n",
      " 49  highWaterLocation              object \n",
      " 50  floodDamage                    int64  \n",
      " 51  floodDamageAmount              float64\n",
      " 52  foundationDamage               int64  \n",
      " 53  foundationDamageAmount         float64\n",
      " 54  roofDamage                     int64  \n",
      " 55  roofDamageAmount               float64\n",
      " 56  tsaEligible                    int64  \n",
      " 57  tsaCheckedIn                   int64  \n",
      " 58  rentalAssistanceEligible       int64  \n",
      " 59  rentalAssistanceAmount         float64\n",
      " 60  repairAssistanceEligible       int64  \n",
      " 61  repairAmount                   float64\n",
      " 62  replacementAssistanceEligible  int64  \n",
      " 63  replacementAmount              float64\n",
      " 64  personalPropertyEligible       int64  \n",
      " 65  personalPropertyAmount         float64\n",
      " 66  ihpMax                         int64  \n",
      " 67  haMax                          int64  \n",
      " 68  onaMax                         int64  \n",
      " 69  lastRefresh                    object \n",
      " 70  id                             object \n",
      "dtypes: float64(22), int64(27), object(22)\n",
      "memory usage: 10.9+ GB\n"
     ]
    }
   ],
   "source": [
    "df.info()"
   ]
  },
  {
   "cell_type": "code",
   "execution_count": 6,
   "id": "26497923-1731-407c-b1a5-5f5f8748aa20",
   "metadata": {},
   "outputs": [
    {
     "data": {
      "text/html": [
       "<div>\n",
       "<style scoped>\n",
       "    .dataframe tbody tr th:only-of-type {\n",
       "        vertical-align: middle;\n",
       "    }\n",
       "\n",
       "    .dataframe tbody tr th {\n",
       "        vertical-align: top;\n",
       "    }\n",
       "\n",
       "    .dataframe thead th {\n",
       "        text-align: right;\n",
       "    }\n",
       "</style>\n",
       "<table border=\"1\" class=\"dataframe\">\n",
       "  <thead>\n",
       "    <tr style=\"text-align: right;\">\n",
       "      <th></th>\n",
       "      <th>incidentType</th>\n",
       "      <th>declarationDate</th>\n",
       "      <th>disasterNumber</th>\n",
       "      <th>county</th>\n",
       "      <th>damagedStateAbbreviation</th>\n",
       "      <th>damagedCity</th>\n",
       "      <th>damagedZipCode</th>\n",
       "      <th>applicantAge</th>\n",
       "      <th>householdComposition</th>\n",
       "      <th>occupantsUnderTwo</th>\n",
       "      <th>...</th>\n",
       "      <th>repairAmount</th>\n",
       "      <th>replacementAssistanceEligible</th>\n",
       "      <th>replacementAmount</th>\n",
       "      <th>personalPropertyEligible</th>\n",
       "      <th>personalPropertyAmount</th>\n",
       "      <th>ihpMax</th>\n",
       "      <th>haMax</th>\n",
       "      <th>onaMax</th>\n",
       "      <th>lastRefresh</th>\n",
       "      <th>id</th>\n",
       "    </tr>\n",
       "  </thead>\n",
       "  <tbody>\n",
       "    <tr>\n",
       "      <th>0</th>\n",
       "      <td>Severe Storm</td>\n",
       "      <td>2003-04-24T00:00:00.000Z</td>\n",
       "      <td>1459</td>\n",
       "      <td>Lawrence (County)</td>\n",
       "      <td>MS</td>\n",
       "      <td>MONTICELLO</td>\n",
       "      <td>39654</td>\n",
       "      <td>35-49</td>\n",
       "      <td>1</td>\n",
       "      <td>0</td>\n",
       "      <td>...</td>\n",
       "      <td>345.60</td>\n",
       "      <td>0</td>\n",
       "      <td>0.0</td>\n",
       "      <td>0</td>\n",
       "      <td>0.00</td>\n",
       "      <td>0</td>\n",
       "      <td>0</td>\n",
       "      <td>0</td>\n",
       "      <td>2023-03-18T05:26:48.000Z</td>\n",
       "      <td>20f5e26f-6bc7-4ca7-b68c-cebee055bc7e</td>\n",
       "    </tr>\n",
       "    <tr>\n",
       "      <th>1</th>\n",
       "      <td>Severe Storm</td>\n",
       "      <td>2003-04-24T00:00:00.000Z</td>\n",
       "      <td>1459</td>\n",
       "      <td>Pike (County)</td>\n",
       "      <td>MS</td>\n",
       "      <td>MCCOMB</td>\n",
       "      <td>39648</td>\n",
       "      <td>35-49</td>\n",
       "      <td>3</td>\n",
       "      <td>0</td>\n",
       "      <td>...</td>\n",
       "      <td>0.00</td>\n",
       "      <td>0</td>\n",
       "      <td>0.0</td>\n",
       "      <td>1</td>\n",
       "      <td>671.54</td>\n",
       "      <td>0</td>\n",
       "      <td>0</td>\n",
       "      <td>0</td>\n",
       "      <td>2023-03-18T05:26:48.000Z</td>\n",
       "      <td>6275ebf0-0d66-451f-ac09-4b974c813acc</td>\n",
       "    </tr>\n",
       "    <tr>\n",
       "      <th>2</th>\n",
       "      <td>Severe Storm</td>\n",
       "      <td>2003-04-24T00:00:00.000Z</td>\n",
       "      <td>1459</td>\n",
       "      <td>Lauderdale (County)</td>\n",
       "      <td>MS</td>\n",
       "      <td>MERIDIAN</td>\n",
       "      <td>39305</td>\n",
       "      <td>35-49</td>\n",
       "      <td>3</td>\n",
       "      <td>0</td>\n",
       "      <td>...</td>\n",
       "      <td>0.00</td>\n",
       "      <td>0</td>\n",
       "      <td>0.0</td>\n",
       "      <td>0</td>\n",
       "      <td>0.00</td>\n",
       "      <td>0</td>\n",
       "      <td>0</td>\n",
       "      <td>0</td>\n",
       "      <td>2023-03-18T05:26:48.000Z</td>\n",
       "      <td>ae868ee2-3e48-4c8a-91d3-3ef69ce10730</td>\n",
       "    </tr>\n",
       "    <tr>\n",
       "      <th>3</th>\n",
       "      <td>Severe Storm</td>\n",
       "      <td>2003-04-24T00:00:00.000Z</td>\n",
       "      <td>1459</td>\n",
       "      <td>Lincoln (County)</td>\n",
       "      <td>MS</td>\n",
       "      <td>BROOKHAVEN</td>\n",
       "      <td>39601</td>\n",
       "      <td>35-49</td>\n",
       "      <td>&gt;5</td>\n",
       "      <td>0</td>\n",
       "      <td>...</td>\n",
       "      <td>365.59</td>\n",
       "      <td>0</td>\n",
       "      <td>0.0</td>\n",
       "      <td>1</td>\n",
       "      <td>488.27</td>\n",
       "      <td>0</td>\n",
       "      <td>0</td>\n",
       "      <td>0</td>\n",
       "      <td>2023-03-18T05:26:48.000Z</td>\n",
       "      <td>e1a91d20-2e65-48f1-a189-303043529446</td>\n",
       "    </tr>\n",
       "    <tr>\n",
       "      <th>4</th>\n",
       "      <td>Severe Storm</td>\n",
       "      <td>2003-04-24T00:00:00.000Z</td>\n",
       "      <td>1459</td>\n",
       "      <td>Marion (County)</td>\n",
       "      <td>MS</td>\n",
       "      <td>SANDY HOOK</td>\n",
       "      <td>39478</td>\n",
       "      <td>50-64</td>\n",
       "      <td>1</td>\n",
       "      <td>0</td>\n",
       "      <td>...</td>\n",
       "      <td>1290.98</td>\n",
       "      <td>0</td>\n",
       "      <td>0.0</td>\n",
       "      <td>1</td>\n",
       "      <td>305.92</td>\n",
       "      <td>0</td>\n",
       "      <td>0</td>\n",
       "      <td>0</td>\n",
       "      <td>2023-03-18T05:26:48.000Z</td>\n",
       "      <td>2879fea6-8b7f-4515-a928-6ac6523d33c8</td>\n",
       "    </tr>\n",
       "  </tbody>\n",
       "</table>\n",
       "<p>5 rows × 71 columns</p>\n",
       "</div>"
      ],
      "text/plain": [
       "   incidentType           declarationDate  disasterNumber  \\\n",
       "0  Severe Storm  2003-04-24T00:00:00.000Z            1459   \n",
       "1  Severe Storm  2003-04-24T00:00:00.000Z            1459   \n",
       "2  Severe Storm  2003-04-24T00:00:00.000Z            1459   \n",
       "3  Severe Storm  2003-04-24T00:00:00.000Z            1459   \n",
       "4  Severe Storm  2003-04-24T00:00:00.000Z            1459   \n",
       "\n",
       "                county damagedStateAbbreviation damagedCity damagedZipCode  \\\n",
       "0    Lawrence (County)                       MS  MONTICELLO          39654   \n",
       "1        Pike (County)                       MS      MCCOMB          39648   \n",
       "2  Lauderdale (County)                       MS    MERIDIAN          39305   \n",
       "3     Lincoln (County)                       MS  BROOKHAVEN          39601   \n",
       "4      Marion (County)                       MS  SANDY HOOK          39478   \n",
       "\n",
       "  applicantAge householdComposition occupantsUnderTwo  ... repairAmount  \\\n",
       "0        35-49                    1                 0  ...       345.60   \n",
       "1        35-49                    3                 0  ...         0.00   \n",
       "2        35-49                    3                 0  ...         0.00   \n",
       "3        35-49                   >5                 0  ...       365.59   \n",
       "4        50-64                    1                 0  ...      1290.98   \n",
       "\n",
       "  replacementAssistanceEligible replacementAmount personalPropertyEligible  \\\n",
       "0                             0               0.0                        0   \n",
       "1                             0               0.0                        1   \n",
       "2                             0               0.0                        0   \n",
       "3                             0               0.0                        1   \n",
       "4                             0               0.0                        1   \n",
       "\n",
       "  personalPropertyAmount ihpMax  haMax onaMax               lastRefresh  \\\n",
       "0                   0.00      0      0      0  2023-03-18T05:26:48.000Z   \n",
       "1                 671.54      0      0      0  2023-03-18T05:26:48.000Z   \n",
       "2                   0.00      0      0      0  2023-03-18T05:26:48.000Z   \n",
       "3                 488.27      0      0      0  2023-03-18T05:26:48.000Z   \n",
       "4                 305.92      0      0      0  2023-03-18T05:26:48.000Z   \n",
       "\n",
       "                                     id  \n",
       "0  20f5e26f-6bc7-4ca7-b68c-cebee055bc7e  \n",
       "1  6275ebf0-0d66-451f-ac09-4b974c813acc  \n",
       "2  ae868ee2-3e48-4c8a-91d3-3ef69ce10730  \n",
       "3  e1a91d20-2e65-48f1-a189-303043529446  \n",
       "4  2879fea6-8b7f-4515-a928-6ac6523d33c8  \n",
       "\n",
       "[5 rows x 71 columns]"
      ]
     },
     "execution_count": 6,
     "metadata": {},
     "output_type": "execute_result"
    }
   ],
   "source": [
    "df.head()"
   ]
  },
  {
   "cell_type": "markdown",
   "id": "d789ce68-73ef-47f5-bf4a-428e27482ef0",
   "metadata": {},
   "source": [
    "# Clean to just needed columns"
   ]
  },
  {
   "cell_type": "code",
   "execution_count": 7,
   "id": "09d8842c-11da-4a37-bf39-d177ea7b9717",
   "metadata": {},
   "outputs": [],
   "source": [
    "rel_list = ['declarationDate', 'county', 'damagedStateAbbreviation'\n",
    "            , 'damagedCity', 'damagedZipCode', 'grossIncome'\n",
    "            , 'floodDamageAmount', 'foundationDamageAmount', 'roofDamageAmount'\n",
    "            , 'rentalAssistanceAmount', 'repairAmount', 'replacementAmount'\n",
    "            , 'personalPropertyAmount'\n",
    "           ]"
   ]
  },
  {
   "cell_type": "code",
   "execution_count": 8,
   "id": "2b6afe23-3f6c-4d17-b8f5-0a5efc158723",
   "metadata": {},
   "outputs": [],
   "source": [
    "df = df.loc[:,rel_list]"
   ]
  },
  {
   "cell_type": "code",
   "execution_count": 9,
   "id": "73520b79-912f-42a2-b11b-1b0781b808df",
   "metadata": {},
   "outputs": [
    {
     "name": "stdout",
     "output_type": "stream",
     "text": [
      "<class 'pandas.core.frame.DataFrame'>\n",
      "RangeIndex: 20644428 entries, 0 to 20644427\n",
      "Data columns (total 13 columns):\n",
      " #   Column                    Dtype  \n",
      "---  ------                    -----  \n",
      " 0   declarationDate           object \n",
      " 1   county                    object \n",
      " 2   damagedStateAbbreviation  object \n",
      " 3   damagedCity               object \n",
      " 4   damagedZipCode            object \n",
      " 5   grossIncome               object \n",
      " 6   floodDamageAmount         float64\n",
      " 7   foundationDamageAmount    float64\n",
      " 8   roofDamageAmount          float64\n",
      " 9   rentalAssistanceAmount    float64\n",
      " 10  repairAmount              float64\n",
      " 11  replacementAmount         float64\n",
      " 12  personalPropertyAmount    float64\n",
      "dtypes: float64(7), object(6)\n",
      "memory usage: 2.0+ GB\n"
     ]
    }
   ],
   "source": [
    "df.info()"
   ]
  },
  {
   "cell_type": "markdown",
   "id": "fa1bec4b-4c17-4a8c-8549-9873c98aadce",
   "metadata": {},
   "source": [
    "# Clean date column"
   ]
  },
  {
   "cell_type": "code",
   "execution_count": 10,
   "id": "1b738081-6f18-482d-be17-d97890785627",
   "metadata": {},
   "outputs": [
    {
     "data": {
      "text/plain": [
       "0    2003-04-24T00:00:00.000Z\n",
       "1    2003-04-24T00:00:00.000Z\n",
       "2    2003-04-24T00:00:00.000Z\n",
       "3    2003-04-24T00:00:00.000Z\n",
       "4    2003-04-24T00:00:00.000Z\n",
       "Name: declarationDate, dtype: object"
      ]
     },
     "execution_count": 10,
     "metadata": {},
     "output_type": "execute_result"
    }
   ],
   "source": [
    "df.loc[:,'declarationDate'].head()"
   ]
  },
  {
   "cell_type": "code",
   "execution_count": 11,
   "id": "b92a8e31-e6db-42c8-b60e-ac789d3e5514",
   "metadata": {},
   "outputs": [],
   "source": [
    "try:\n",
    "    df['declarationDate'] = pd.to_datetime(arg=df.loc[:,'declarationDate'],\n",
    "                                           errors='raise',\n",
    "                                           format=\"%Y-%m-%dT%H:%M:%S\"\n",
    "                                          )\n",
    "except:\n",
    "    print('that ain\\'t it man')"
   ]
  },
  {
   "cell_type": "code",
   "execution_count": 12,
   "id": "bbe92177-7861-48dd-99c8-3188c26c76b4",
   "metadata": {},
   "outputs": [
    {
     "data": {
      "text/plain": [
       "min   2002-11-05 00:00:00+00:00\n",
       "max   2023-04-27 00:00:00+00:00\n",
       "Name: declarationDate, dtype: datetime64[ns, UTC]"
      ]
     },
     "execution_count": 12,
     "metadata": {},
     "output_type": "execute_result"
    }
   ],
   "source": [
    "df.loc[:,'declarationDate'].agg(['min','max'])"
   ]
  },
  {
   "cell_type": "markdown",
   "id": "0faffc16-87c4-422b-b765-0500530ff244",
   "metadata": {},
   "source": [
    "# Change columns to something nicer"
   ]
  },
  {
   "cell_type": "code",
   "execution_count": 13,
   "id": "77bfabd9-8c94-41cc-8484-994e4c8f82af",
   "metadata": {},
   "outputs": [],
   "source": [
    "mapper = {'damagedStateAbbreviation':'state'\n",
    "          , 'damagedCity':'city'\n",
    "          , 'damagedZipCode':'zip'\n",
    "          , 'declarationDate':'date'\n",
    "         }"
   ]
  },
  {
   "cell_type": "code",
   "execution_count": 14,
   "id": "d474b831-e7da-466c-b51e-b086bdfa050e",
   "metadata": {},
   "outputs": [],
   "source": [
    "df = df.rename(columns = mapper)"
   ]
  },
  {
   "cell_type": "code",
   "execution_count": 15,
   "id": "fd7faddc-9e8c-4f14-8b7a-88ef3f0fc593",
   "metadata": {},
   "outputs": [
    {
     "data": {
      "text/plain": [
       "Index(['date', 'county', 'state', 'city', 'zip', 'grossIncome',\n",
       "       'floodDamageAmount', 'foundationDamageAmount', 'roofDamageAmount',\n",
       "       'rentalAssistanceAmount', 'repairAmount', 'replacementAmount',\n",
       "       'personalPropertyAmount'],\n",
       "      dtype='object')"
      ]
     },
     "execution_count": 15,
     "metadata": {},
     "output_type": "execute_result"
    }
   ],
   "source": [
    "df.columns"
   ]
  },
  {
   "cell_type": "markdown",
   "id": "99e63359-8846-4560-b18f-b68df39371a5",
   "metadata": {},
   "source": [
    "# Clean region columns information"
   ]
  },
  {
   "cell_type": "code",
   "execution_count": 16,
   "id": "6bae8432-4007-44bc-8301-7aaf2467b85d",
   "metadata": {},
   "outputs": [],
   "source": [
    "df.loc[:,'county'] = df.loc[:,'county'].str.replace(' \\(.*', '', case=False, regex=True)"
   ]
  },
  {
   "cell_type": "code",
   "execution_count": 22,
   "id": "125f8bf7-35b9-472c-b307-489b60a0e7eb",
   "metadata": {},
   "outputs": [],
   "source": [
    "pd.Series(df.loc[:,'county'].unique()).to_csv('counties.csv')"
   ]
  },
  {
   "cell_type": "markdown",
   "id": "4e811d7f-fc27-40a6-9ff1-b99c93eed648",
   "metadata": {},
   "source": [
    "# Explore State and zip code for anything unusual"
   ]
  },
  {
   "cell_type": "markdown",
   "id": "859e2d83-c2d7-4df3-bcd6-159cc045fd87",
   "metadata": {},
   "source": [
    "# Combine damages and reimbursements"
   ]
  },
  {
   "cell_type": "code",
   "execution_count": 23,
   "id": "9dff7cc7-12a1-4ceb-9246-5d34c748a00c",
   "metadata": {},
   "outputs": [],
   "source": [
    "df.loc[:,'damage'] = df.loc[:,'floodDamageAmount']\\\n",
    "                    + df.loc[:,'foundationDamageAmount']\\\n",
    "                    + df.loc[:,'roofDamageAmount']"
   ]
  },
  {
   "cell_type": "code",
   "execution_count": 24,
   "id": "9621f7ef-d7e8-4b15-9935-5cc584e95efc",
   "metadata": {},
   "outputs": [],
   "source": [
    "df.loc[:,'reimbursements'] = df.loc[:,'rentalAssistanceAmount']\\\n",
    "                                + df.loc[:,'repairAmount']\\\n",
    "                                + df.loc[:,'replacementAmount']\\\n",
    "                                + df.loc[:,'personalPropertyAmount']"
   ]
  },
  {
   "cell_type": "markdown",
   "id": "a56772c9-310b-4a34-bb6f-6aacfbea75a9",
   "metadata": {},
   "source": [
    "# Final dataset conditioning and write"
   ]
  },
  {
   "cell_type": "code",
   "execution_count": 25,
   "id": "f68e6a5a-6576-41ab-9213-c50c1e127328",
   "metadata": {},
   "outputs": [],
   "source": [
    "# add state and county back in if needed later\n",
    "drop_list = ['floodDamageAmount', 'foundationDamageAmount', 'roofDamageAmount'\n",
    "            , 'rentalAssistanceAmount', 'repairAmount', 'replacementAmount'\n",
    "            , 'personalPropertyAmount', 'grossIncome'\n",
    "           ]\n",
    "df = df.drop(columns = drop_list)"
   ]
  },
  {
   "cell_type": "code",
   "execution_count": 26,
   "id": "beee69dc-a9df-477e-9cdd-a0cc882b0ad8",
   "metadata": {},
   "outputs": [
    {
     "name": "stdout",
     "output_type": "stream",
     "text": [
      "<class 'pandas.core.frame.DataFrame'>\n",
      "RangeIndex: 20644428 entries, 0 to 20644427\n",
      "Data columns (total 7 columns):\n",
      " #   Column          Non-Null Count     Dtype              \n",
      "---  ------          --------------     -----              \n",
      " 0   date            20644428 non-null  datetime64[ns, UTC]\n",
      " 1   county          20644428 non-null  object             \n",
      " 2   state           20644428 non-null  object             \n",
      " 3   city            20644414 non-null  object             \n",
      " 4   zip             20644392 non-null  object             \n",
      " 5   damage          20644428 non-null  float64            \n",
      " 6   reimbursements  20644428 non-null  float64            \n",
      "dtypes: datetime64[ns, UTC](1), float64(2), object(4)\n",
      "memory usage: 1.1+ GB\n"
     ]
    }
   ],
   "source": [
    "df.info(verbose = True, show_counts = True)"
   ]
  },
  {
   "cell_type": "code",
   "execution_count": 27,
   "id": "65efb970-b48b-4e3e-9048-9de1f9572bee",
   "metadata": {},
   "outputs": [],
   "source": [
    "df = df.dropna()"
   ]
  },
  {
   "cell_type": "code",
   "execution_count": 28,
   "id": "b7c55d0e-e879-42ed-bcf7-8cb96787d833",
   "metadata": {},
   "outputs": [],
   "source": [
    "df = df.astype({'damage':'float16','reimbursements':'float16'})"
   ]
  },
  {
   "cell_type": "code",
   "execution_count": 29,
   "id": "7be3feb6-fcbd-4a4c-b0f9-8ad62fee8f9b",
   "metadata": {},
   "outputs": [],
   "source": [
    "df.loc[:,'date'] = df.loc[:,'date'].dt.date"
   ]
  },
  {
   "cell_type": "code",
   "execution_count": 30,
   "id": "f75447b4-82e7-4c99-b39f-1661623523ae",
   "metadata": {},
   "outputs": [
    {
     "name": "stdout",
     "output_type": "stream",
     "text": [
      "<class 'pandas.core.frame.DataFrame'>\n",
      "Int64Index: 20644383 entries, 0 to 20644427\n",
      "Data columns (total 7 columns):\n",
      " #   Column          Non-Null Count     Dtype  \n",
      "---  ------          --------------     -----  \n",
      " 0   date            20644383 non-null  object \n",
      " 1   county          20644383 non-null  object \n",
      " 2   state           20644383 non-null  object \n",
      " 3   city            20644383 non-null  object \n",
      " 4   zip             20644383 non-null  object \n",
      " 5   damage          20644383 non-null  float16\n",
      " 6   reimbursements  20644383 non-null  float16\n",
      "dtypes: float16(2), object(5)\n",
      "memory usage: 1023.8+ MB\n"
     ]
    }
   ],
   "source": [
    "df.info(verbose = True, show_counts = True)"
   ]
  },
  {
   "cell_type": "code",
   "execution_count": 31,
   "id": "73a21a9e-fdff-4418-b448-c302dee7b0d6",
   "metadata": {},
   "outputs": [
    {
     "data": {
      "text/html": [
       "<div>\n",
       "<style scoped>\n",
       "    .dataframe tbody tr th:only-of-type {\n",
       "        vertical-align: middle;\n",
       "    }\n",
       "\n",
       "    .dataframe tbody tr th {\n",
       "        vertical-align: top;\n",
       "    }\n",
       "\n",
       "    .dataframe thead th {\n",
       "        text-align: right;\n",
       "    }\n",
       "</style>\n",
       "<table border=\"1\" class=\"dataframe\">\n",
       "  <thead>\n",
       "    <tr style=\"text-align: right;\">\n",
       "      <th></th>\n",
       "      <th>date</th>\n",
       "      <th>county</th>\n",
       "      <th>state</th>\n",
       "      <th>city</th>\n",
       "      <th>zip</th>\n",
       "      <th>damage</th>\n",
       "      <th>reimbursements</th>\n",
       "    </tr>\n",
       "  </thead>\n",
       "  <tbody>\n",
       "    <tr>\n",
       "      <th>0</th>\n",
       "      <td>2003-04-24</td>\n",
       "      <td>Lawrence</td>\n",
       "      <td>MS</td>\n",
       "      <td>MONTICELLO</td>\n",
       "      <td>39654</td>\n",
       "      <td>345.5</td>\n",
       "      <td>345.5</td>\n",
       "    </tr>\n",
       "    <tr>\n",
       "      <th>1</th>\n",
       "      <td>2003-04-24</td>\n",
       "      <td>Pike</td>\n",
       "      <td>MS</td>\n",
       "      <td>MCCOMB</td>\n",
       "      <td>39648</td>\n",
       "      <td>0.0</td>\n",
       "      <td>671.5</td>\n",
       "    </tr>\n",
       "    <tr>\n",
       "      <th>2</th>\n",
       "      <td>2003-04-24</td>\n",
       "      <td>Lauderdale</td>\n",
       "      <td>MS</td>\n",
       "      <td>MERIDIAN</td>\n",
       "      <td>39305</td>\n",
       "      <td>0.0</td>\n",
       "      <td>0.0</td>\n",
       "    </tr>\n",
       "    <tr>\n",
       "      <th>3</th>\n",
       "      <td>2003-04-24</td>\n",
       "      <td>Lincoln</td>\n",
       "      <td>MS</td>\n",
       "      <td>BROOKHAVEN</td>\n",
       "      <td>39601</td>\n",
       "      <td>0.0</td>\n",
       "      <td>854.0</td>\n",
       "    </tr>\n",
       "    <tr>\n",
       "      <th>4</th>\n",
       "      <td>2003-04-24</td>\n",
       "      <td>Marion</td>\n",
       "      <td>MS</td>\n",
       "      <td>SANDY HOOK</td>\n",
       "      <td>39478</td>\n",
       "      <td>0.0</td>\n",
       "      <td>1597.0</td>\n",
       "    </tr>\n",
       "  </tbody>\n",
       "</table>\n",
       "</div>"
      ],
      "text/plain": [
       "         date      county state        city    zip  damage  reimbursements\n",
       "0  2003-04-24    Lawrence    MS  MONTICELLO  39654   345.5           345.5\n",
       "1  2003-04-24        Pike    MS      MCCOMB  39648     0.0           671.5\n",
       "2  2003-04-24  Lauderdale    MS    MERIDIAN  39305     0.0             0.0\n",
       "3  2003-04-24     Lincoln    MS  BROOKHAVEN  39601     0.0           854.0\n",
       "4  2003-04-24      Marion    MS  SANDY HOOK  39478     0.0          1597.0"
      ]
     },
     "execution_count": 31,
     "metadata": {},
     "output_type": "execute_result"
    }
   ],
   "source": [
    "df.head()"
   ]
  },
  {
   "cell_type": "markdown",
   "id": "4f10dfe3-9a91-4c40-9d97-ec6a3ce7cc40",
   "metadata": {},
   "source": [
    "# Write to dataset"
   ]
  },
  {
   "cell_type": "code",
   "execution_count": 32,
   "id": "c6f3869e-7d16-4573-ac4c-886f5dae574f",
   "metadata": {},
   "outputs": [],
   "source": [
    "filename2 = 'FEMA_claims.csv.gz'\n",
    "url2 = Path(PureWindowsPath('C:\\\\Users\\\\woodn\\\\github\\\\datasets'))\n",
    "filepath2 = url2 / filename2"
   ]
  },
  {
   "cell_type": "code",
   "execution_count": 33,
   "id": "4853ab5e-8cc7-47b6-ac85-d7b0d3435344",
   "metadata": {},
   "outputs": [],
   "source": [
    "df.to_csv(filepath2,\n",
    "          index = False,\n",
    "          compression = 'gzip'\n",
    "         )"
   ]
  },
  {
   "cell_type": "code",
   "execution_count": null,
   "id": "7bb43496-c7e7-46b7-becb-2b55230fd9e1",
   "metadata": {},
   "outputs": [],
   "source": []
  }
 ],
 "metadata": {
  "kernelspec": {
   "display_name": "Python 3 (ipykernel)",
   "language": "python",
   "name": "python3"
  },
  "language_info": {
   "codemirror_mode": {
    "name": "ipython",
    "version": 3
   },
   "file_extension": ".py",
   "mimetype": "text/x-python",
   "name": "python",
   "nbconvert_exporter": "python",
   "pygments_lexer": "ipython3",
   "version": "3.10.9"
  },
  "toc-autonumbering": true
 },
 "nbformat": 4,
 "nbformat_minor": 5
}
