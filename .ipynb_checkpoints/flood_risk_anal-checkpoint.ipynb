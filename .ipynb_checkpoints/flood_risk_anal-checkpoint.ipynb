{
 "cells": [
  {
   "cell_type": "code",
   "execution_count": 26,
   "id": "c4e990ec-6d68-43f3-9d0c-103b953c8655",
   "metadata": {},
   "outputs": [],
   "source": [
    "import pandas as pd\n",
    "import os\n",
    "from pathlib import Path, PureWindowsPath\n",
    "import numpy as np\n",
    "from sklearn.cluster import KMeans\n",
    "import seaborn as sns"
   ]
  },
  {
   "cell_type": "markdown",
   "id": "1bbfcecd-c270-4793-9cfe-6c889da7002c",
   "metadata": {},
   "source": [
    "# Load files in"
   ]
  },
  {
   "cell_type": "code",
   "execution_count": 2,
   "id": "3f7cc279-a968-44c5-bcfe-544c81c69e89",
   "metadata": {},
   "outputs": [],
   "source": [
    "filename_1 = 'FEMA_claims.csv.gz'\n",
    "filename_2 = 'ASEC_income.csv.gz'\n",
    "filename_3 = 'ZHVI.csv.gz'\n",
    "url = Path(PureWindowsPath('C:\\\\Users\\\\woodn\\\\github\\\\datasets'))\n",
    "filepath_1 = url / filename_1\n",
    "filepath_2 = url / filename_2\n",
    "filepath_3 = url / filename_3"
   ]
  },
  {
   "cell_type": "code",
   "execution_count": 3,
   "id": "b307f187-309d-464a-9962-567403f8ae2b",
   "metadata": {},
   "outputs": [],
   "source": [
    "df_fema = pd.read_csv(filepath_1,\n",
    "                      on_bad_lines = 'warn',\n",
    "                      low_memory = False\n",
    "                     )\n",
    "df_asec = pd.read_csv(filepath_2,\n",
    "                      on_bad_lines = 'warn',\n",
    "                      low_memory = False\n",
    "                     )\n",
    "df_zhvi = pd.read_csv(filepath_3,\n",
    "                      on_bad_lines = 'warn',\n",
    "                      low_memory = False\n",
    "                     )"
   ]
  },
  {
   "cell_type": "markdown",
   "id": "f70521f8-1b67-426a-839a-c44b02f29b8c",
   "metadata": {},
   "source": [
    "# Aggregate FEMA data down to year for y-o-y analysis"
   ]
  },
  {
   "cell_type": "code",
   "execution_count": 4,
   "id": "3fa8410a-e4ab-47d0-ac99-5ae49e1d9917",
   "metadata": {},
   "outputs": [
    {
     "name": "stdout",
     "output_type": "stream",
     "text": [
      "<class 'pandas.core.frame.DataFrame'>\n",
      "RangeIndex: 20644383 entries, 0 to 20644382\n",
      "Data columns (total 7 columns):\n",
      " #   Column          Dtype  \n",
      "---  ------          -----  \n",
      " 0   date            object \n",
      " 1   county          object \n",
      " 2   state           object \n",
      " 3   city            object \n",
      " 4   zip             object \n",
      " 5   damage          float64\n",
      " 6   reimbursements  float64\n",
      "dtypes: float64(2), object(5)\n",
      "memory usage: 1.1+ GB\n"
     ]
    }
   ],
   "source": [
    "df_fema.info()"
   ]
  },
  {
   "cell_type": "code",
   "execution_count": 6,
   "id": "9187a2cf-c988-4534-8190-0657f6f0e33c",
   "metadata": {},
   "outputs": [
    {
     "data": {
      "text/html": [
       "<div>\n",
       "<style scoped>\n",
       "    .dataframe tbody tr th:only-of-type {\n",
       "        vertical-align: middle;\n",
       "    }\n",
       "\n",
       "    .dataframe tbody tr th {\n",
       "        vertical-align: top;\n",
       "    }\n",
       "\n",
       "    .dataframe thead th {\n",
       "        text-align: right;\n",
       "    }\n",
       "</style>\n",
       "<table border=\"1\" class=\"dataframe\">\n",
       "  <thead>\n",
       "    <tr style=\"text-align: right;\">\n",
       "      <th></th>\n",
       "      <th>date</th>\n",
       "      <th>county</th>\n",
       "      <th>state</th>\n",
       "      <th>city</th>\n",
       "      <th>zip</th>\n",
       "      <th>damage</th>\n",
       "      <th>reimbursements</th>\n",
       "    </tr>\n",
       "  </thead>\n",
       "  <tbody>\n",
       "    <tr>\n",
       "      <th>17457816</th>\n",
       "      <td>2021-08-29</td>\n",
       "      <td>Tangipahoa</td>\n",
       "      <td>LA</td>\n",
       "      <td>HAMMOND</td>\n",
       "      <td>70401</td>\n",
       "      <td>0.0</td>\n",
       "      <td>0.0</td>\n",
       "    </tr>\n",
       "    <tr>\n",
       "      <th>13964040</th>\n",
       "      <td>2017-09-20</td>\n",
       "      <td>San German</td>\n",
       "      <td>PR</td>\n",
       "      <td>SAN GERMAN</td>\n",
       "      <td>00683</td>\n",
       "      <td>0.0</td>\n",
       "      <td>0.0</td>\n",
       "    </tr>\n",
       "    <tr>\n",
       "      <th>6206370</th>\n",
       "      <td>2008-09-02</td>\n",
       "      <td>Tangipahoa</td>\n",
       "      <td>LA</td>\n",
       "      <td>HAMMOND</td>\n",
       "      <td>70403</td>\n",
       "      <td>0.0</td>\n",
       "      <td>0.0</td>\n",
       "    </tr>\n",
       "  </tbody>\n",
       "</table>\n",
       "</div>"
      ],
      "text/plain": [
       "                date      county state        city    zip  damage  \\\n",
       "17457816  2021-08-29  Tangipahoa    LA     HAMMOND  70401     0.0   \n",
       "13964040  2017-09-20  San German    PR  SAN GERMAN  00683     0.0   \n",
       "6206370   2008-09-02  Tangipahoa    LA     HAMMOND  70403     0.0   \n",
       "\n",
       "          reimbursements  \n",
       "17457816             0.0  \n",
       "13964040             0.0  \n",
       "6206370              0.0  "
      ]
     },
     "execution_count": 6,
     "metadata": {},
     "output_type": "execute_result"
    }
   ],
   "source": [
    "df_fema.sample(3)"
   ]
  },
  {
   "cell_type": "code",
   "execution_count": 8,
   "id": "74d6b254-6237-4aa3-b990-d9f054732ea5",
   "metadata": {},
   "outputs": [],
   "source": [
    "try:\n",
    "    df_fema['year'] = pd.to_datetime(arg=df_fema.loc[:,'date']\n",
    "                                     ,errors='raise'\n",
    "                                     ,format=\"%Y-%m-%d\"\n",
    "                                    ).dt.year\n",
    "except:\n",
    "    print('that ain\\'t it man')"
   ]
  },
  {
   "cell_type": "code",
   "execution_count": 9,
   "id": "3fe71150-4c21-44cc-a2d1-e288558256f3",
   "metadata": {},
   "outputs": [
    {
     "name": "stdout",
     "output_type": "stream",
     "text": [
      "<class 'pandas.core.frame.DataFrame'>\n",
      "RangeIndex: 20644383 entries, 0 to 20644382\n",
      "Data columns (total 8 columns):\n",
      " #   Column          Dtype  \n",
      "---  ------          -----  \n",
      " 0   date            object \n",
      " 1   county          object \n",
      " 2   state           object \n",
      " 3   city            object \n",
      " 4   zip             object \n",
      " 5   damage          float64\n",
      " 6   reimbursements  float64\n",
      " 7   year            int64  \n",
      "dtypes: float64(2), int64(1), object(5)\n",
      "memory usage: 1.2+ GB\n"
     ]
    }
   ],
   "source": [
    "df_fema.info()"
   ]
  },
  {
   "cell_type": "code",
   "execution_count": 21,
   "id": "b2643cbf-d7aa-4c0f-a589-288e9ba73d05",
   "metadata": {},
   "outputs": [],
   "source": [
    "df2_fema = df_fema.groupby(by=['state','county','year'], as_index=False)\\\n",
    "                    .agg(tot_reim = ('reimbursements','sum')\n",
    "                         ,cnt_req = ('reimbursements','count')\n",
    "                        ).dropna()"
   ]
  },
  {
   "cell_type": "code",
   "execution_count": 22,
   "id": "3238c2e6-b0a4-4f6a-8e9d-b974331f7817",
   "metadata": {},
   "outputs": [
    {
     "data": {
      "text/html": [
       "<div>\n",
       "<style scoped>\n",
       "    .dataframe tbody tr th:only-of-type {\n",
       "        vertical-align: middle;\n",
       "    }\n",
       "\n",
       "    .dataframe tbody tr th {\n",
       "        vertical-align: top;\n",
       "    }\n",
       "\n",
       "    .dataframe thead th {\n",
       "        text-align: right;\n",
       "    }\n",
       "</style>\n",
       "<table border=\"1\" class=\"dataframe\">\n",
       "  <thead>\n",
       "    <tr style=\"text-align: right;\">\n",
       "      <th></th>\n",
       "      <th>state</th>\n",
       "      <th>county</th>\n",
       "      <th>year</th>\n",
       "      <th>tot_reim</th>\n",
       "      <th>cnt_req</th>\n",
       "    </tr>\n",
       "  </thead>\n",
       "  <tbody>\n",
       "    <tr>\n",
       "      <th>4904</th>\n",
       "      <td>NC</td>\n",
       "      <td>Brunswick</td>\n",
       "      <td>2011</td>\n",
       "      <td>77325.20</td>\n",
       "      <td>221</td>\n",
       "    </tr>\n",
       "    <tr>\n",
       "      <th>5271</th>\n",
       "      <td>ND</td>\n",
       "      <td>Ramsey</td>\n",
       "      <td>2009</td>\n",
       "      <td>187667.32</td>\n",
       "      <td>333</td>\n",
       "    </tr>\n",
       "    <tr>\n",
       "      <th>4097</th>\n",
       "      <td>MO</td>\n",
       "      <td>Hickory</td>\n",
       "      <td>2006</td>\n",
       "      <td>143915.50</td>\n",
       "      <td>69</td>\n",
       "    </tr>\n",
       "  </tbody>\n",
       "</table>\n",
       "</div>"
      ],
      "text/plain": [
       "     state     county  year   tot_reim  cnt_req\n",
       "4904    NC  Brunswick  2011   77325.20      221\n",
       "5271    ND     Ramsey  2009  187667.32      333\n",
       "4097    MO    Hickory  2006  143915.50       69"
      ]
     },
     "execution_count": 22,
     "metadata": {},
     "output_type": "execute_result"
    }
   ],
   "source": [
    "df2_fema.sample(3)"
   ]
  },
  {
   "cell_type": "code",
   "execution_count": 23,
   "id": "78f3ea0e-adef-4a60-910f-301aa78189fd",
   "metadata": {},
   "outputs": [
    {
     "name": "stdout",
     "output_type": "stream",
     "text": [
      "<class 'pandas.core.frame.DataFrame'>\n",
      "Int64Index: 9198 entries, 0 to 9221\n",
      "Data columns (total 5 columns):\n",
      " #   Column    Non-Null Count  Dtype  \n",
      "---  ------    --------------  -----  \n",
      " 0   state     9198 non-null   object \n",
      " 1   county    9198 non-null   object \n",
      " 2   year      9198 non-null   int64  \n",
      " 3   tot_reim  9198 non-null   float64\n",
      " 4   cnt_req   9198 non-null   int64  \n",
      "dtypes: float64(1), int64(2), object(2)\n",
      "memory usage: 431.2+ KB\n"
     ]
    }
   ],
   "source": [
    "df2_fema.info()"
   ]
  },
  {
   "cell_type": "markdown",
   "id": "87429c4e-704c-4bff-93d8-124f869bbd97",
   "metadata": {},
   "source": [
    "# Fit a model for each year to cluster into: low,med,high"
   ]
  },
  {
   "cell_type": "code",
   "execution_count": null,
   "id": "da2f1be6-0400-48e4-b0cf-0a381abcfeac",
   "metadata": {},
   "outputs": [],
   "source": [
    "# df2_fema.loc[:,'year'].unique().tolist()\n",
    "# for y in range(2005,2023):\n",
    "#     X = df2_fema.loc[df2_fema.loc[:,'year']==y,'tot_reim','cnt_req']\n",
    "#     df2_fema.loc[df2_fema.loc[:,'year']==y,'cluster'] = KMeans(n_clusters=3).fit_predict(X)\n"
   ]
  },
  {
   "cell_type": "code",
   "execution_count": 27,
   "id": "982f414c-5949-4d8c-9112-115bce19ed54",
   "metadata": {},
   "outputs": [
    {
     "name": "stderr",
     "output_type": "stream",
     "text": [
      "C:\\ProgramData\\Anaconda3\\envs\\ML_gpu\\lib\\site-packages\\sklearn\\cluster\\_kmeans.py:870: FutureWarning: The default value of `n_init` will change from 10 to 'auto' in 1.4. Set the value of `n_init` explicitly to suppress the warning\n",
      "  warnings.warn(\n",
      "C:\\Users\\woodn\\AppData\\Local\\Temp\\ipykernel_16200\\1662957337.py:5: SettingWithCopyWarning: \n",
      "A value is trying to be set on a copy of a slice from a DataFrame.\n",
      "Try using .loc[row_indexer,col_indexer] = value instead\n",
      "\n",
      "See the caveats in the documentation: https://pandas.pydata.org/pandas-docs/stable/user_guide/indexing.html#returning-a-view-versus-a-copy\n",
      "  df_temp.loc[:,'cluster'] = KMeans(n_clusters=3).fit_predict(X)\n"
     ]
    }
   ],
   "source": [
    "y = 2020\n",
    "df_temp = df2_fema.loc[df2_fema.loc[:,'year']==y,:]\n",
    "filt = df2_fema.loc[:,'year']==y\n",
    "X = df_temp.loc[filt,['tot_reim','cnt_req']]\n",
    "mdl = KMeans(n_clusters=3).fit(X)\n",
    "df_temp.loc[:,'cluster'] = mdl.predict(X)"
   ]
  },
  {
   "cell_type": "code",
   "execution_count": 34,
   "id": "0aadefac-097c-4309-bedb-83ba93ad1637",
   "metadata": {},
   "outputs": [
    {
     "data": {
      "text/plain": [
       "<Axes: xlabel='tot_reim', ylabel='cnt_req'>"
      ]
     },
     "execution_count": 34,
     "metadata": {},
     "output_type": "execute_result"
    },
    {
     "data": {
      "image/png": "[encoded data removed]",
      "text/plain": [
       "<Figure size 640x480 with 1 Axes>"
      ]
     },
     "metadata": {},
     "output_type": "display_data"
    }
   ],
   "source": [
    "sns.set_style('whitegrid')\n",
    "sns.scatterplot(data=df_temp,\n",
    "                x='tot_reim',\n",
    "                y='cnt_req',\n",
    "                hue='cluster',\n",
    "                palette='Set2'\n",
    "               )"
   ]
  },
  {
   "cell_type": "code",
   "execution_count": null,
   "id": "eb1c65e6-c676-403b-9412-88c87a4bbe9a",
   "metadata": {},
   "outputs": [],
   "source": []
  }
 ],
 "metadata": {
  "kernelspec": {
   "display_name": "Python [conda env:ML_gpu]",
   "language": "python",
   "name": "conda-env-ML_gpu-py"
  },
  "language_info": {
   "codemirror_mode": {
    "name": "ipython",
    "version": 3
   },
   "file_extension": ".py",
   "mimetype": "text/x-python",
   "name": "python",
   "nbconvert_exporter": "python",
   "pygments_lexer": "ipython3",
   "version": "3.10.9"
  }
 },
 "nbformat": 4,
 "nbformat_minor": 5
}
