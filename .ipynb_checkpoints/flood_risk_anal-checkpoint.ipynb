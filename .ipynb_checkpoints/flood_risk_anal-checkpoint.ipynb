{
 "cells": [
  {
   "cell_type": "code",
   "execution_count": 1,
   "id": "c4e990ec-6d68-43f3-9d0c-103b953c8655",
   "metadata": {},
   "outputs": [],
   "source": [
    "import pandas as pd\n",
    "import os\n",
    "from pathlib import Path, PureWindowsPath\n",
    "import numpy as np\n",
    "from sklearn.cluster import KMeans\n",
    "from sklearn.preprocessing import MinMaxScaler\n",
    "import seaborn as sns\n",
    "import matplotlib.pyplot as plt "
   ]
  },
  {
   "cell_type": "markdown",
   "id": "1bbfcecd-c270-4793-9cfe-6c889da7002c",
   "metadata": {},
   "source": [
    "# Load files in"
   ]
  },
  {
   "cell_type": "code",
   "execution_count": 2,
   "id": "3f7cc279-a968-44c5-bcfe-544c81c69e89",
   "metadata": {},
   "outputs": [],
   "source": [
    "filename_1 = 'FEMA_claims.csv.gz'\n",
    "filename_2 = 'ASEC_income.csv.gz'\n",
    "filename_3 = 'ZHVI.csv.gz'\n",
    "url = Path(PureWindowsPath('C:\\\\Users\\\\woodn\\\\github\\\\datasets'))\n",
    "filepath_1 = url / filename_1\n",
    "filepath_2 = url / filename_2\n",
    "filepath_3 = url / filename_3"
   ]
  },
  {
   "cell_type": "code",
   "execution_count": 3,
   "id": "b307f187-309d-464a-9962-567403f8ae2b",
   "metadata": {},
   "outputs": [],
   "source": [
    "df_fema = pd.read_csv(filepath_1,\n",
    "                      on_bad_lines = 'warn',\n",
    "                      low_memory = False\n",
    "                     )\n",
    "df_asec = pd.read_csv(filepath_2,\n",
    "                      on_bad_lines = 'warn',\n",
    "                      low_memory = False\n",
    "                     )\n",
    "df_zhvi = pd.read_csv(filepath_3,\n",
    "                      on_bad_lines = 'warn',\n",
    "                      low_memory = False\n",
    "                     )"
   ]
  },
  {
   "cell_type": "markdown",
   "id": "f70521f8-1b67-426a-839a-c44b02f29b8c",
   "metadata": {},
   "source": [
    "# Aggregate FEMA data down to year for y-o-y analysis"
   ]
  },
  {
   "cell_type": "code",
   "execution_count": 4,
   "id": "3a7f3dc4-e5ed-40f5-a9d2-0dafe43cb479",
   "metadata": {},
   "outputs": [],
   "source": [
    "key = ['state','county','year']"
   ]
  },
  {
   "cell_type": "code",
   "execution_count": 5,
   "id": "3fa8410a-e4ab-47d0-ac99-5ae49e1d9917",
   "metadata": {},
   "outputs": [
    {
     "name": "stdout",
     "output_type": "stream",
     "text": [
      "<class 'pandas.core.frame.DataFrame'>\n",
      "RangeIndex: 20644383 entries, 0 to 20644382\n",
      "Data columns (total 7 columns):\n",
      " #   Column          Dtype  \n",
      "---  ------          -----  \n",
      " 0   date            object \n",
      " 1   county          object \n",
      " 2   state           object \n",
      " 3   city            object \n",
      " 4   zip             object \n",
      " 5   damage          float64\n",
      " 6   reimbursements  float64\n",
      "dtypes: float64(2), object(5)\n",
      "memory usage: 1.1+ GB\n"
     ]
    }
   ],
   "source": [
    "df_fema.info()"
   ]
  },
  {
   "cell_type": "code",
   "execution_count": 6,
   "id": "9187a2cf-c988-4534-8190-0657f6f0e33c",
   "metadata": {},
   "outputs": [
    {
     "data": {
      "text/html": [
       "<div>\n",
       "<style scoped>\n",
       "    .dataframe tbody tr th:only-of-type {\n",
       "        vertical-align: middle;\n",
       "    }\n",
       "\n",
       "    .dataframe tbody tr th {\n",
       "        vertical-align: top;\n",
       "    }\n",
       "\n",
       "    .dataframe thead th {\n",
       "        text-align: right;\n",
       "    }\n",
       "</style>\n",
       "<table border=\"1\" class=\"dataframe\">\n",
       "  <thead>\n",
       "    <tr style=\"text-align: right;\">\n",
       "      <th></th>\n",
       "      <th>date</th>\n",
       "      <th>county</th>\n",
       "      <th>state</th>\n",
       "      <th>city</th>\n",
       "      <th>zip</th>\n",
       "      <th>damage</th>\n",
       "      <th>reimbursements</th>\n",
       "    </tr>\n",
       "  </thead>\n",
       "  <tbody>\n",
       "    <tr>\n",
       "      <th>20602900</th>\n",
       "      <td>2002-12-08</td>\n",
       "      <td>Guam</td>\n",
       "      <td>GU</td>\n",
       "      <td>MANGILAO</td>\n",
       "      <td>96913</td>\n",
       "      <td>0.0</td>\n",
       "      <td>5550.0</td>\n",
       "    </tr>\n",
       "    <tr>\n",
       "      <th>322296</th>\n",
       "      <td>2003-09-18</td>\n",
       "      <td>Norfolk</td>\n",
       "      <td>VA</td>\n",
       "      <td>NORFOLK</td>\n",
       "      <td>23505</td>\n",
       "      <td>0.0</td>\n",
       "      <td>0.0</td>\n",
       "    </tr>\n",
       "    <tr>\n",
       "      <th>8893432</th>\n",
       "      <td>2012-10-30</td>\n",
       "      <td>Suffolk</td>\n",
       "      <td>NY</td>\n",
       "      <td>EAST MARION</td>\n",
       "      <td>11939</td>\n",
       "      <td>0.0</td>\n",
       "      <td>0.0</td>\n",
       "    </tr>\n",
       "  </tbody>\n",
       "</table>\n",
       "</div>"
      ],
      "text/plain": [
       "                date   county state         city    zip  damage  \\\n",
       "20602900  2002-12-08     Guam    GU     MANGILAO  96913     0.0   \n",
       "322296    2003-09-18  Norfolk    VA      NORFOLK  23505     0.0   \n",
       "8893432   2012-10-30  Suffolk    NY  EAST MARION  11939     0.0   \n",
       "\n",
       "          reimbursements  \n",
       "20602900          5550.0  \n",
       "322296               0.0  \n",
       "8893432              0.0  "
      ]
     },
     "execution_count": 6,
     "metadata": {},
     "output_type": "execute_result"
    }
   ],
   "source": [
    "df_fema.sample(3)"
   ]
  },
  {
   "cell_type": "code",
   "execution_count": 7,
   "id": "74d6b254-6237-4aa3-b990-d9f054732ea5",
   "metadata": {},
   "outputs": [],
   "source": [
    "try:\n",
    "    df_fema['year'] = pd.to_datetime(arg=df_fema.loc[:,'date']\n",
    "                                     ,errors='raise'\n",
    "                                     ,format=\"%Y-%m-%d\"\n",
    "                                    ).dt.year\n",
    "except:\n",
    "    print('that ain\\'t it man')"
   ]
  },
  {
   "cell_type": "code",
   "execution_count": 8,
   "id": "3fe71150-4c21-44cc-a2d1-e288558256f3",
   "metadata": {},
   "outputs": [
    {
     "name": "stdout",
     "output_type": "stream",
     "text": [
      "<class 'pandas.core.frame.DataFrame'>\n",
      "RangeIndex: 20644383 entries, 0 to 20644382\n",
      "Data columns (total 8 columns):\n",
      " #   Column          Dtype  \n",
      "---  ------          -----  \n",
      " 0   date            object \n",
      " 1   county          object \n",
      " 2   state           object \n",
      " 3   city            object \n",
      " 4   zip             object \n",
      " 5   damage          float64\n",
      " 6   reimbursements  float64\n",
      " 7   year            int64  \n",
      "dtypes: float64(2), int64(1), object(5)\n",
      "memory usage: 1.2+ GB\n"
     ]
    }
   ],
   "source": [
    "df_fema.info()"
   ]
  },
  {
   "cell_type": "code",
   "execution_count": 9,
   "id": "b2643cbf-d7aa-4c0f-a589-288e9ba73d05",
   "metadata": {},
   "outputs": [],
   "source": [
    "df2_fema = df_fema.groupby(by=['state','county','year'], as_index=False)\\\n",
    "                    .agg(tot_reim = ('reimbursements','sum')\n",
    "                         ,cnt_req = ('reimbursements','count')\n",
    "                        ).dropna()"
   ]
  },
  {
   "cell_type": "code",
   "execution_count": 10,
   "id": "3238c2e6-b0a4-4f6a-8e9d-b974331f7817",
   "metadata": {},
   "outputs": [
    {
     "data": {
      "text/html": [
       "<div>\n",
       "<style scoped>\n",
       "    .dataframe tbody tr th:only-of-type {\n",
       "        vertical-align: middle;\n",
       "    }\n",
       "\n",
       "    .dataframe tbody tr th {\n",
       "        vertical-align: top;\n",
       "    }\n",
       "\n",
       "    .dataframe thead th {\n",
       "        text-align: right;\n",
       "    }\n",
       "</style>\n",
       "<table border=\"1\" class=\"dataframe\">\n",
       "  <thead>\n",
       "    <tr style=\"text-align: right;\">\n",
       "      <th></th>\n",
       "      <th>state</th>\n",
       "      <th>county</th>\n",
       "      <th>year</th>\n",
       "      <th>tot_reim</th>\n",
       "      <th>cnt_req</th>\n",
       "    </tr>\n",
       "  </thead>\n",
       "  <tbody>\n",
       "    <tr>\n",
       "      <th>1818</th>\n",
       "      <td>IA</td>\n",
       "      <td>Monona</td>\n",
       "      <td>2020</td>\n",
       "      <td>0.0</td>\n",
       "      <td>16</td>\n",
       "    </tr>\n",
       "    <tr>\n",
       "      <th>6329</th>\n",
       "      <td>OK</td>\n",
       "      <td>Okmulgee</td>\n",
       "      <td>2015</td>\n",
       "      <td>231719.7</td>\n",
       "      <td>153</td>\n",
       "    </tr>\n",
       "    <tr>\n",
       "      <th>4364</th>\n",
       "      <td>MO</td>\n",
       "      <td>Ste. Genevieve</td>\n",
       "      <td>2016</td>\n",
       "      <td>96521.5</td>\n",
       "      <td>21</td>\n",
       "    </tr>\n",
       "  </tbody>\n",
       "</table>\n",
       "</div>"
      ],
      "text/plain": [
       "     state          county  year  tot_reim  cnt_req\n",
       "1818    IA          Monona  2020       0.0       16\n",
       "6329    OK        Okmulgee  2015  231719.7      153\n",
       "4364    MO  Ste. Genevieve  2016   96521.5       21"
      ]
     },
     "execution_count": 10,
     "metadata": {},
     "output_type": "execute_result"
    }
   ],
   "source": [
    "df2_fema.sample(3)"
   ]
  },
  {
   "cell_type": "code",
   "execution_count": 11,
   "id": "78f3ea0e-adef-4a60-910f-301aa78189fd",
   "metadata": {},
   "outputs": [
    {
     "name": "stdout",
     "output_type": "stream",
     "text": [
      "<class 'pandas.core.frame.DataFrame'>\n",
      "Int64Index: 9198 entries, 0 to 9221\n",
      "Data columns (total 5 columns):\n",
      " #   Column    Non-Null Count  Dtype  \n",
      "---  ------    --------------  -----  \n",
      " 0   state     9198 non-null   object \n",
      " 1   county    9198 non-null   object \n",
      " 2   year      9198 non-null   int64  \n",
      " 3   tot_reim  9198 non-null   float64\n",
      " 4   cnt_req   9198 non-null   int64  \n",
      "dtypes: float64(1), int64(2), object(2)\n",
      "memory usage: 431.2+ KB\n"
     ]
    }
   ],
   "source": [
    "df2_fema.info()"
   ]
  },
  {
   "cell_type": "markdown",
   "id": "87429c4e-704c-4bff-93d8-124f869bbd97",
   "metadata": {},
   "source": [
    "# Fit a model for each year to cluster into: low,med,high"
   ]
  },
  {
   "cell_type": "code",
   "execution_count": 16,
   "id": "8f92da5f-ab8a-49f4-9822-85a9b63616a9",
   "metadata": {},
   "outputs": [],
   "source": [
    "def hmmm(i,year,df,ax):\n",
    "    df_temp = df.loc[df.loc[:,'year']==y,:].copy()\n",
    "    X = pd.DataFrame(MinMaxScaler().fit_transform(df_temp.loc[:,['tot_reim','cnt_req']])\n",
    "                     ,columns=['tot_reim','cnt_req']\n",
    "                    )\n",
    "    n = 4\n",
    "    mdl = KMeans(n_clusters=n,n_init='auto').fit(X)\n",
    "    \n",
    "    df_temp.loc[:,'cluster'] = mdl.labels_\n",
    "    df_temp = df_temp.astype({'cluster':'int8'})\n",
    "\n",
    "    X_ = pd.DataFrame(mdl.cluster_centers_\n",
    "                      ,columns=['tot_reim','cnt_req']\n",
    "                     )\n",
    "    X_.loc[:,'cluster'] = pd.Series(np.arange(0,n))\n",
    "    X_.loc[:,'cluster_l2'] = (X_.loc[:,'tot_reim']**2 + X_.loc[:,'cnt_req']**2)**0.5\n",
    "    X_.loc[:,'risk_rnk'] = X_.loc[:,'cluster_l2'].rank().astype({'cluster_l2':'int8'})\n",
    "    \n",
    "    df_temp = pd.merge(df_temp\n",
    "                       ,X_.loc[:,['cluster','risk_rnk']]\n",
    "                       ,how = 'left'\n",
    "                       ,left_on = 'cluster'\n",
    "                       ,right_on = 'cluster'\n",
    "                      )\n",
    "    \n",
    "    sns.set_style('whitegrid')\n",
    "    sns.scatterplot(data = df_temp\n",
    "                    ,x = 'tot_reim'\n",
    "                    ,y = 'cnt_req'\n",
    "                    ,hue = 'risk_rnk'\n",
    "                    ,palette = 'Set2'\n",
    "                    ,ax=ax\n",
    "                   )\n",
    "    ax.set(ylabel = 'Reimbursement Requests'\n",
    "           ,xlabel = 'Reimbursement Costs (USD)'\n",
    "           ,xscale = 'log'\n",
    "           ,yscale = 'log'\n",
    "           ,title = 'Year: {}'.format(str(y))\n",
    "          )\n",
    "    \n",
    "    return df_temp.drop(columns=['cluster']), ax"
   ]
  },
  {
   "cell_type": "code",
   "execution_count": 17,
   "id": "982f414c-5949-4d8c-9112-115bce19ed54",
   "metadata": {},
   "outputs": [],
   "source": [
    "k = 3\n",
    "h = int(18/k)\n",
    "\n",
    "fig, ax = plt.subplots(h, k, figsize=(15, h*3.5))\n",
    "\n",
    "import warnings\n",
    "warnings.filterwarnings('ignore')\n",
    "\n",
    "for i,y in enumerate(range(2005,2023)):\n",
    "    blah, ax[int(i/k),i%k] = hmmm(i,y,df2_fema,ax[int(i/k),i%k])\n",
    "    if i==0:\n",
    "        df3_fema = blah\n",
    "    else:\n",
    "        df3_fema = pd.concat([df3_fema,blah])\n",
    "    \n",
    "fig.subplots_adjust(hspace=0.4,wspace=0.2)\n",
    "fig.suptitle('State,County FEMA Flood Risk Clustering (4=very high,3=high,2=med,1=low)',y=0.915)\n",
    "\n",
    "path = os.path.join(os.getcwd(),'figs')\n",
    "filename = 'y-o-y_cluster_all' + '.png'\n",
    "\n",
    "if not os.path.exists(path):\n",
    "    os.makedirs(path)\n",
    "plt.savefig(fname=os.path.join(path,filename))\n",
    "plt.close(fig)"
   ]
  },
  {
   "cell_type": "code",
   "execution_count": 20,
   "id": "180f1ade-d443-4716-b5d6-9f21249e5c44",
   "metadata": {},
   "outputs": [
    {
     "data": {
      "text/html": [
       "<div>\n",
       "<style scoped>\n",
       "    .dataframe tbody tr th:only-of-type {\n",
       "        vertical-align: middle;\n",
       "    }\n",
       "\n",
       "    .dataframe tbody tr th {\n",
       "        vertical-align: top;\n",
       "    }\n",
       "\n",
       "    .dataframe thead th {\n",
       "        text-align: right;\n",
       "    }\n",
       "</style>\n",
       "<table border=\"1\" class=\"dataframe\">\n",
       "  <thead>\n",
       "    <tr style=\"text-align: right;\">\n",
       "      <th></th>\n",
       "      <th>state</th>\n",
       "      <th>county</th>\n",
       "      <th>year</th>\n",
       "      <th>tot_reim</th>\n",
       "      <th>cnt_req</th>\n",
       "      <th>risk_rnk</th>\n",
       "    </tr>\n",
       "  </thead>\n",
       "  <tbody>\n",
       "    <tr>\n",
       "      <th>20</th>\n",
       "      <td>IL</td>\n",
       "      <td>Cook</td>\n",
       "      <td>2013</td>\n",
       "      <td>1.261188e+08</td>\n",
       "      <td>76630</td>\n",
       "      <td>4</td>\n",
       "    </tr>\n",
       "    <tr>\n",
       "      <th>243</th>\n",
       "      <td>TX</td>\n",
       "      <td>Harris</td>\n",
       "      <td>2017</td>\n",
       "      <td>6.901686e+08</td>\n",
       "      <td>449339</td>\n",
       "      <td>4</td>\n",
       "    </tr>\n",
       "    <tr>\n",
       "      <th>22</th>\n",
       "      <td>MI</td>\n",
       "      <td>Wayne</td>\n",
       "      <td>2014</td>\n",
       "      <td>1.212488e+08</td>\n",
       "      <td>98182</td>\n",
       "      <td>4</td>\n",
       "    </tr>\n",
       "  </tbody>\n",
       "</table>\n",
       "</div>"
      ],
      "text/plain": [
       "    state  county  year      tot_reim  cnt_req  risk_rnk\n",
       "20     IL    Cook  2013  1.261188e+08    76630         4\n",
       "243    TX  Harris  2017  6.901686e+08   449339         4\n",
       "22     MI   Wayne  2014  1.212488e+08    98182         4"
      ]
     },
     "execution_count": 20,
     "metadata": {},
     "output_type": "execute_result"
    }
   ],
   "source": [
    "filt_ugh = df3_fema.loc[:,'risk_rnk'] == 4\n",
    "df3_fema.loc[filt_ugh,:].sample(3)"
   ]
  },
  {
   "cell_type": "code",
   "execution_count": 23,
   "id": "4c417668-5aba-4fb4-9745-a1e1c3a96905",
   "metadata": {},
   "outputs": [
    {
     "data": {
      "text/plain": [
       "45990"
      ]
     },
     "execution_count": 23,
     "metadata": {},
     "output_type": "execute_result"
    }
   ],
   "source": [
    "df2_fema.size"
   ]
  },
  {
   "cell_type": "code",
   "execution_count": 24,
   "id": "c4c42aaf-613e-4ade-a9ec-bd1857735f5e",
   "metadata": {},
   "outputs": [
    {
     "data": {
      "text/plain": [
       "44634"
      ]
     },
     "execution_count": 24,
     "metadata": {},
     "output_type": "execute_result"
    }
   ],
   "source": [
    "df3_fema.size"
   ]
  },
  {
   "cell_type": "markdown",
   "id": "4b7a5e69-8b6f-48ec-aa18-7a5412798cd6",
   "metadata": {},
   "source": [
    "# Assess state,county level risk"
   ]
  },
  {
   "cell_type": "code",
   "execution_count": 31,
   "id": "eed8bf45-f959-4023-a4bf-c584380f8123",
   "metadata": {},
   "outputs": [],
   "source": [
    "dfgb_risk_mu = df3_fema.groupby(by=['state','county'], as_index=False)\\\n",
    "                        .agg(mean_risk = ('risk_rnk','mean')\n",
    "                             ,cnt_req_tot = ('cnt_req','sum')\n",
    "                            )"
   ]
  },
  {
   "cell_type": "code",
   "execution_count": 34,
   "id": "97d01f6d-705f-423f-bca4-1d999bc2bb41",
   "metadata": {},
   "outputs": [
    {
     "data": {
      "text/html": [
       "<div>\n",
       "<style scoped>\n",
       "    .dataframe tbody tr th:only-of-type {\n",
       "        vertical-align: middle;\n",
       "    }\n",
       "\n",
       "    .dataframe tbody tr th {\n",
       "        vertical-align: top;\n",
       "    }\n",
       "\n",
       "    .dataframe thead th {\n",
       "        text-align: right;\n",
       "    }\n",
       "</style>\n",
       "<table border=\"1\" class=\"dataframe\">\n",
       "  <thead>\n",
       "    <tr style=\"text-align: right;\">\n",
       "      <th></th>\n",
       "      <th>state</th>\n",
       "      <th>county</th>\n",
       "      <th>mean_risk</th>\n",
       "      <th>cnt_req_tot</th>\n",
       "    </tr>\n",
       "  </thead>\n",
       "  <tbody>\n",
       "    <tr>\n",
       "      <th>1317</th>\n",
       "      <td>MI</td>\n",
       "      <td>Wayne</td>\n",
       "      <td>3.000000</td>\n",
       "      <td>197657</td>\n",
       "    </tr>\n",
       "    <tr>\n",
       "      <th>716</th>\n",
       "      <td>IL</td>\n",
       "      <td>Cook</td>\n",
       "      <td>2.750000</td>\n",
       "      <td>268817</td>\n",
       "    </tr>\n",
       "    <tr>\n",
       "      <th>2689</th>\n",
       "      <td>TX</td>\n",
       "      <td>Harris</td>\n",
       "      <td>2.750000</td>\n",
       "      <td>967816</td>\n",
       "    </tr>\n",
       "    <tr>\n",
       "      <th>1521</th>\n",
       "      <td>MP</td>\n",
       "      <td>Saipan</td>\n",
       "      <td>2.666667</td>\n",
       "      <td>17774</td>\n",
       "    </tr>\n",
       "    <tr>\n",
       "      <th>2286</th>\n",
       "      <td>PA</td>\n",
       "      <td>Philadelphia</td>\n",
       "      <td>2.500000</td>\n",
       "      <td>50352</td>\n",
       "    </tr>\n",
       "  </tbody>\n",
       "</table>\n",
       "</div>"
      ],
      "text/plain": [
       "     state        county  mean_risk  cnt_req_tot\n",
       "1317    MI         Wayne   3.000000       197657\n",
       "716     IL          Cook   2.750000       268817\n",
       "2689    TX        Harris   2.750000       967816\n",
       "1521    MP        Saipan   2.666667        17774\n",
       "2286    PA  Philadelphia   2.500000        50352"
      ]
     },
     "execution_count": 34,
     "metadata": {},
     "output_type": "execute_result"
    }
   ],
   "source": [
    "dfgb_risk_mu.nlargest(5,'mean_risk').to_csv('highest_avg_risk.csv',index = False)\n",
    "dfgb_risk_mu.nlargest(5,'mean_risk')"
   ]
  },
  {
   "cell_type": "code",
   "execution_count": 35,
   "id": "34b4f05e-adad-4ddb-a8e7-28b9c4bcb1c5",
   "metadata": {},
   "outputs": [
    {
     "data": {
      "text/html": [
       "<div>\n",
       "<style scoped>\n",
       "    .dataframe tbody tr th:only-of-type {\n",
       "        vertical-align: middle;\n",
       "    }\n",
       "\n",
       "    .dataframe tbody tr th {\n",
       "        vertical-align: top;\n",
       "    }\n",
       "\n",
       "    .dataframe thead th {\n",
       "        text-align: right;\n",
       "    }\n",
       "</style>\n",
       "<table border=\"1\" class=\"dataframe\">\n",
       "  <thead>\n",
       "    <tr style=\"text-align: right;\">\n",
       "      <th></th>\n",
       "      <th>state</th>\n",
       "      <th>county</th>\n",
       "      <th>mean_risk</th>\n",
       "      <th>cnt_req_tot</th>\n",
       "    </tr>\n",
       "  </thead>\n",
       "  <tbody>\n",
       "    <tr>\n",
       "      <th>2689</th>\n",
       "      <td>TX</td>\n",
       "      <td>Harris</td>\n",
       "      <td>2.750000</td>\n",
       "      <td>967816</td>\n",
       "    </tr>\n",
       "    <tr>\n",
       "      <th>369</th>\n",
       "      <td>FL</td>\n",
       "      <td>Miami-Dade</td>\n",
       "      <td>1.750000</td>\n",
       "      <td>783501</td>\n",
       "    </tr>\n",
       "    <tr>\n",
       "      <th>1143</th>\n",
       "      <td>LA</td>\n",
       "      <td>Jefferson</td>\n",
       "      <td>2.333333</td>\n",
       "      <td>604028</td>\n",
       "    </tr>\n",
       "    <tr>\n",
       "      <th>329</th>\n",
       "      <td>FL</td>\n",
       "      <td>Broward</td>\n",
       "      <td>1.666667</td>\n",
       "      <td>530511</td>\n",
       "    </tr>\n",
       "    <tr>\n",
       "      <th>1153</th>\n",
       "      <td>LA</td>\n",
       "      <td>Orleans</td>\n",
       "      <td>2.000000</td>\n",
       "      <td>481775</td>\n",
       "    </tr>\n",
       "  </tbody>\n",
       "</table>\n",
       "</div>"
      ],
      "text/plain": [
       "     state      county  mean_risk  cnt_req_tot\n",
       "2689    TX      Harris   2.750000       967816\n",
       "369     FL  Miami-Dade   1.750000       783501\n",
       "1143    LA   Jefferson   2.333333       604028\n",
       "329     FL     Broward   1.666667       530511\n",
       "1153    LA     Orleans   2.000000       481775"
      ]
     },
     "execution_count": 35,
     "metadata": {},
     "output_type": "execute_result"
    }
   ],
   "source": [
    "dfgb_risk_mu.nlargest(5,'cnt_req_tot').to_csv('highest_num_reimbursements.csv',index = False)\n",
    "dfgb_risk_mu.nlargest(5,'cnt_req_tot')"
   ]
  },
  {
   "cell_type": "code",
   "execution_count": null,
   "id": "ad0b1ee4-f95d-4162-9ba7-797b3b7db694",
   "metadata": {},
   "outputs": [],
   "source": []
  }
 ],
 "metadata": {
  "kernelspec": {
   "display_name": "Python [conda env:ML_gpu]",
   "language": "python",
   "name": "conda-env-ML_gpu-py"
  },
  "language_info": {
   "codemirror_mode": {
    "name": "ipython",
    "version": 3
   },
   "file_extension": ".py",
   "mimetype": "text/x-python",
   "name": "python",
   "nbconvert_exporter": "python",
   "pygments_lexer": "ipython3",
   "version": "3.10.9"
  }
 },
 "nbformat": 4,
 "nbformat_minor": 5
}
