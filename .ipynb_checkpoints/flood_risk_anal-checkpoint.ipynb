{
 "cells": [
  {
   "cell_type": "code",
   "execution_count": 4,
   "id": "c4e990ec-6d68-43f3-9d0c-103b953c8655",
   "metadata": {},
   "outputs": [],
   "source": [
    "import pandas as pd\n",
    "import os\n",
    "from pathlib import Path, PureWindowsPath\n",
    "import numpy as np\n",
    "from sklearn.cluster import KMeans\n",
    "from sklearn.preprocessing import MinMaxScaler\n",
    "import seaborn as sns\n",
    "import matplotlib.pyplot as plt "
   ]
  },
  {
   "cell_type": "markdown",
   "id": "1bbfcecd-c270-4793-9cfe-6c889da7002c",
   "metadata": {},
   "source": [
    "# Load files in"
   ]
  },
  {
   "cell_type": "code",
   "execution_count": 5,
   "id": "3f7cc279-a968-44c5-bcfe-544c81c69e89",
   "metadata": {},
   "outputs": [],
   "source": [
    "filename_1 = 'FEMA_claims.csv.gz'\n",
    "filename_2 = 'ASEC_income.csv.gz'\n",
    "filename_3 = 'ZHVI.csv.gz'\n",
    "url = 'https://raw.githubusercontent.com/nollijish/datasets/main/'\n",
    "filepath_1 = url + filename_1\n",
    "filepath_2 = url + filename_2\n",
    "filepath_3 = url + filename_3"
   ]
  },
  {
   "cell_type": "code",
   "execution_count": 6,
   "id": "b307f187-309d-464a-9962-567403f8ae2b",
   "metadata": {},
   "outputs": [],
   "source": [
    "df_fema = pd.read_csv(filepath_1,\n",
    "                      on_bad_lines = 'warn',\n",
    "                      low_memory = False\n",
    "                     )\n",
    "df_asec = pd.read_csv(filepath_2,\n",
    "                      on_bad_lines = 'warn',\n",
    "                      low_memory = False\n",
    "                     )\n",
    "df_zhvi = pd.read_csv(filepath_3,\n",
    "                      on_bad_lines = 'warn',\n",
    "                      low_memory = False\n",
    "                     )"
   ]
  },
  {
   "cell_type": "markdown",
   "id": "f70521f8-1b67-426a-839a-c44b02f29b8c",
   "metadata": {},
   "source": [
    "# Aggregate FEMA data down to year for y-o-y analysis"
   ]
  },
  {
   "cell_type": "code",
   "execution_count": null,
   "id": "3a7f3dc4-e5ed-40f5-a9d2-0dafe43cb479",
   "metadata": {},
   "outputs": [],
   "source": [
    "key = ['state','county','year']"
   ]
  },
  {
   "cell_type": "code",
   "execution_count": null,
   "id": "3fa8410a-e4ab-47d0-ac99-5ae49e1d9917",
   "metadata": {},
   "outputs": [],
   "source": [
    "df_fema.info()"
   ]
  },
  {
   "cell_type": "code",
   "execution_count": null,
   "id": "9187a2cf-c988-4534-8190-0657f6f0e33c",
   "metadata": {},
   "outputs": [],
   "source": [
    "df_fema.sample(3)"
   ]
  },
  {
   "cell_type": "code",
   "execution_count": null,
   "id": "74d6b254-6237-4aa3-b990-d9f054732ea5",
   "metadata": {},
   "outputs": [],
   "source": [
    "try:\n",
    "    df_fema['year'] = pd.to_datetime(arg=df_fema.loc[:,'date']\n",
    "                                     ,errors='raise'\n",
    "                                     ,format=\"%Y-%m-%d\"\n",
    "                                    ).dt.year\n",
    "except:\n",
    "    print('that ain\\'t it man')"
   ]
  },
  {
   "cell_type": "code",
   "execution_count": null,
   "id": "3fe71150-4c21-44cc-a2d1-e288558256f3",
   "metadata": {},
   "outputs": [],
   "source": [
    "df_fema.info()"
   ]
  },
  {
   "cell_type": "code",
   "execution_count": null,
   "id": "b2643cbf-d7aa-4c0f-a589-288e9ba73d05",
   "metadata": {},
   "outputs": [],
   "source": [
    "df2_fema = df_fema.groupby(by=['state','county','year'], as_index=False)\\\n",
    "                    .agg(tot_reim = ('reimbursements','sum')\n",
    "                         ,cnt_req = ('reimbursements','count')\n",
    "                        ).dropna()"
   ]
  },
  {
   "cell_type": "code",
   "execution_count": null,
   "id": "3238c2e6-b0a4-4f6a-8e9d-b974331f7817",
   "metadata": {},
   "outputs": [],
   "source": [
    "df2_fema.sample(3)"
   ]
  },
  {
   "cell_type": "code",
   "execution_count": null,
   "id": "78f3ea0e-adef-4a60-910f-301aa78189fd",
   "metadata": {},
   "outputs": [],
   "source": [
    "df2_fema.info()"
   ]
  },
  {
   "cell_type": "markdown",
   "id": "87429c4e-704c-4bff-93d8-124f869bbd97",
   "metadata": {},
   "source": [
    "# Fit a model for each year to cluster into: low,med,high"
   ]
  },
  {
   "cell_type": "code",
   "execution_count": null,
   "id": "8f92da5f-ab8a-49f4-9822-85a9b63616a9",
   "metadata": {},
   "outputs": [],
   "source": [
    "def hmmm(i,year,df,ax):\n",
    "    df_temp = df.loc[df.loc[:,'year']==y,:].copy()\n",
    "    X = pd.DataFrame(MinMaxScaler().fit_transform(df_temp.loc[:,['tot_reim','cnt_req']])\n",
    "                     ,columns=['tot_reim','cnt_req']\n",
    "                    )\n",
    "    n = 4\n",
    "    mdl = KMeans(n_clusters=n,n_init='auto').fit(X)\n",
    "    \n",
    "    df_temp.loc[:,'cluster'] = mdl.labels_\n",
    "    df_temp = df_temp.astype({'cluster':'int8'})\n",
    "\n",
    "    X_ = pd.DataFrame(mdl.cluster_centers_\n",
    "                      ,columns=['tot_reim','cnt_req']\n",
    "                     )\n",
    "    X_.loc[:,'cluster'] = pd.Series(np.arange(0,n))\n",
    "    X_.loc[:,'cluster_l2'] = (X_.loc[:,'tot_reim']**2 + X_.loc[:,'cnt_req']**2)**0.5\n",
    "    X_.loc[:,'risk_rnk'] = X_.loc[:,'cluster_l2'].rank().astype({'cluster_l2':'int8'})\n",
    "    \n",
    "    df_temp = pd.merge(df_temp\n",
    "                       ,X_.loc[:,['cluster','risk_rnk']]\n",
    "                       ,how = 'left'\n",
    "                       ,left_on = 'cluster'\n",
    "                       ,right_on = 'cluster'\n",
    "                      )\n",
    "    \n",
    "    sns.set_style('whitegrid')\n",
    "    sns.scatterplot(data = df_temp\n",
    "                    ,x = 'tot_reim'\n",
    "                    ,y = 'cnt_req'\n",
    "                    ,hue = 'risk_rnk'\n",
    "                    ,palette = 'Set2'\n",
    "                    ,ax=ax\n",
    "                   )\n",
    "    ax.set(ylabel = 'Reimbursement Requests'\n",
    "           ,xlabel = 'Reimbursement Costs (USD)'\n",
    "           ,xscale = 'log'\n",
    "           ,yscale = 'log'\n",
    "           ,title = 'Year: {}'.format(str(y))\n",
    "          )\n",
    "    \n",
    "    return df_temp.drop(columns=['cluster']), ax"
   ]
  },
  {
   "cell_type": "code",
   "execution_count": null,
   "id": "982f414c-5949-4d8c-9112-115bce19ed54",
   "metadata": {},
   "outputs": [],
   "source": [
    "k = 3\n",
    "h = int(18/k)\n",
    "\n",
    "fig, ax = plt.subplots(h, k, figsize=(15, h*3.5))\n",
    "\n",
    "import warnings\n",
    "warnings.filterwarnings('ignore')\n",
    "\n",
    "for i,y in enumerate(range(2005,2023)):\n",
    "    blah, ax[int(i/k),i%k] = hmmm(i,y,df2_fema,ax[int(i/k),i%k])\n",
    "    if i==0:\n",
    "        df3_fema = blah\n",
    "    else:\n",
    "        df3_fema = pd.concat([df3_fema,blah])\n",
    "    \n",
    "fig.subplots_adjust(hspace=0.4,wspace=0.2)\n",
    "fig.suptitle('State,County FEMA Flood Risk Clustering (4=very high,3=high,2=med,1=low)',y=0.915)\n",
    "\n",
    "path = os.path.join(os.getcwd(),'figs')\n",
    "filename = 'y-o-y_cluster_all' + '.png'\n",
    "\n",
    "if not os.path.exists(path):\n",
    "    os.makedirs(path)\n",
    "plt.savefig(fname=os.path.join(path,filename))\n",
    "plt.close(fig)"
   ]
  },
  {
   "cell_type": "code",
   "execution_count": null,
   "id": "180f1ade-d443-4716-b5d6-9f21249e5c44",
   "metadata": {},
   "outputs": [],
   "source": [
    "filt_ugh = df3_fema.loc[:,'risk_rnk'] == 4\n",
    "df3_fema.loc[filt_ugh,:].sample(3)"
   ]
  },
  {
   "cell_type": "code",
   "execution_count": null,
   "id": "4c417668-5aba-4fb4-9745-a1e1c3a96905",
   "metadata": {},
   "outputs": [],
   "source": [
    "df2_fema.size"
   ]
  },
  {
   "cell_type": "code",
   "execution_count": null,
   "id": "c4c42aaf-613e-4ade-a9ec-bd1857735f5e",
   "metadata": {},
   "outputs": [],
   "source": [
    "df3_fema.size"
   ]
  },
  {
   "cell_type": "markdown",
   "id": "4b7a5e69-8b6f-48ec-aa18-7a5412798cd6",
   "metadata": {},
   "source": [
    "# Assess state,county level risk"
   ]
  },
  {
   "cell_type": "code",
   "execution_count": null,
   "id": "eed8bf45-f959-4023-a4bf-c584380f8123",
   "metadata": {},
   "outputs": [],
   "source": [
    "dfgb_risk_mu = df3_fema.groupby(by=['state','county'], as_index=False)\\\n",
    "                        .agg(mean_risk = ('risk_rnk','mean')\n",
    "                             ,cnt_req_tot = ('cnt_req','sum')\n",
    "                            )"
   ]
  },
  {
   "cell_type": "code",
   "execution_count": null,
   "id": "97d01f6d-705f-423f-bca4-1d999bc2bb41",
   "metadata": {},
   "outputs": [],
   "source": [
    "dfgb_risk_mu.nlargest(5,'mean_risk').to_csv('highest_avg_risk.csv',index = False)\n",
    "dfgb_risk_mu.nlargest(5,'mean_risk')"
   ]
  },
  {
   "cell_type": "code",
   "execution_count": null,
   "id": "34b4f05e-adad-4ddb-a8e7-28b9c4bcb1c5",
   "metadata": {},
   "outputs": [],
   "source": [
    "dfgb_risk_mu.nlargest(5,'cnt_req_tot').to_csv('highest_num_reimbursements.csv',index = False)\n",
    "dfgb_risk_mu.nlargest(5,'cnt_req_tot')"
   ]
  },
  {
   "cell_type": "code",
   "execution_count": null,
   "id": "ad0b1ee4-f95d-4162-9ba7-797b3b7db694",
   "metadata": {},
   "outputs": [],
   "source": []
  }
 ],
 "metadata": {
  "kernelspec": {
   "display_name": "Python [conda env:ML_gpu]",
   "language": "python",
   "name": "conda-env-ML_gpu-py"
  },
  "language_info": {
   "codemirror_mode": {
    "name": "ipython",
    "version": 3
   },
   "file_extension": ".py",
   "mimetype": "text/x-python",
   "name": "python",
   "nbconvert_exporter": "python",
   "pygments_lexer": "ipython3",
   "version": "3.10.9"
  }
 },
 "nbformat": 4,
 "nbformat_minor": 5
}
