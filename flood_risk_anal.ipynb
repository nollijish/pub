{
 "cells": [
  {
   "cell_type": "code",
   "execution_count": 19,
   "id": "c4e990ec-6d68-43f3-9d0c-103b953c8655",
   "metadata": {},
   "outputs": [],
   "source": [
    "import pandas as pd\n",
    "import os\n",
    "from pathlib import Path, PureWindowsPath\n",
    "import numpy as np\n",
    "from sklearn.cluster import KMeans\n",
    "from sklearn.preprocessing import MinMaxScaler\n",
    "import seaborn as sns\n",
    "import matplotlib.pyplot as plt "
   ]
  },
  {
   "cell_type": "markdown",
   "id": "1bbfcecd-c270-4793-9cfe-6c889da7002c",
   "metadata": {},
   "source": [
    "# Load files in"
   ]
  },
  {
   "cell_type": "code",
   "execution_count": 2,
   "id": "3f7cc279-a968-44c5-bcfe-544c81c69e89",
   "metadata": {},
   "outputs": [],
   "source": [
    "filename_1 = 'FEMA_claims.csv.gz'\n",
    "filename_2 = 'ASEC_income.csv.gz'\n",
    "filename_3 = 'ZHVI.csv.gz'\n",
    "url = Path(PureWindowsPath('C:\\\\Users\\\\woodn\\\\github\\\\datasets'))\n",
    "filepath_1 = url / filename_1\n",
    "filepath_2 = url / filename_2\n",
    "filepath_3 = url / filename_3"
   ]
  },
  {
   "cell_type": "code",
   "execution_count": 3,
   "id": "b307f187-309d-464a-9962-567403f8ae2b",
   "metadata": {},
   "outputs": [],
   "source": [
    "df_fema = pd.read_csv(filepath_1,\n",
    "                      on_bad_lines = 'warn',\n",
    "                      low_memory = False\n",
    "                     )\n",
    "df_asec = pd.read_csv(filepath_2,\n",
    "                      on_bad_lines = 'warn',\n",
    "                      low_memory = False\n",
    "                     )\n",
    "df_zhvi = pd.read_csv(filepath_3,\n",
    "                      on_bad_lines = 'warn',\n",
    "                      low_memory = False\n",
    "                     )"
   ]
  },
  {
   "cell_type": "markdown",
   "id": "f70521f8-1b67-426a-839a-c44b02f29b8c",
   "metadata": {},
   "source": [
    "# Aggregate FEMA data down to year for y-o-y analysis"
   ]
  },
  {
   "cell_type": "code",
   "execution_count": 4,
   "id": "3fa8410a-e4ab-47d0-ac99-5ae49e1d9917",
   "metadata": {},
   "outputs": [
    {
     "name": "stdout",
     "output_type": "stream",
     "text": [
      "<class 'pandas.core.frame.DataFrame'>\n",
      "RangeIndex: 20644383 entries, 0 to 20644382\n",
      "Data columns (total 7 columns):\n",
      " #   Column          Dtype  \n",
      "---  ------          -----  \n",
      " 0   date            object \n",
      " 1   county          object \n",
      " 2   state           object \n",
      " 3   city            object \n",
      " 4   zip             object \n",
      " 5   damage          float64\n",
      " 6   reimbursements  float64\n",
      "dtypes: float64(2), object(5)\n",
      "memory usage: 1.1+ GB\n"
     ]
    }
   ],
   "source": [
    "df_fema.info()"
   ]
  },
  {
   "cell_type": "code",
   "execution_count": 5,
   "id": "9187a2cf-c988-4534-8190-0657f6f0e33c",
   "metadata": {},
   "outputs": [
    {
     "data": {
      "text/html": [
       "<div>\n",
       "<style scoped>\n",
       "    .dataframe tbody tr th:only-of-type {\n",
       "        vertical-align: middle;\n",
       "    }\n",
       "\n",
       "    .dataframe tbody tr th {\n",
       "        vertical-align: top;\n",
       "    }\n",
       "\n",
       "    .dataframe thead th {\n",
       "        text-align: right;\n",
       "    }\n",
       "</style>\n",
       "<table border=\"1\" class=\"dataframe\">\n",
       "  <thead>\n",
       "    <tr style=\"text-align: right;\">\n",
       "      <th></th>\n",
       "      <th>date</th>\n",
       "      <th>county</th>\n",
       "      <th>state</th>\n",
       "      <th>city</th>\n",
       "      <th>zip</th>\n",
       "      <th>damage</th>\n",
       "      <th>reimbursements</th>\n",
       "    </tr>\n",
       "  </thead>\n",
       "  <tbody>\n",
       "    <tr>\n",
       "      <th>9882027</th>\n",
       "      <td>2016-04-25</td>\n",
       "      <td>Harris</td>\n",
       "      <td>TX</td>\n",
       "      <td>HOUSTON</td>\n",
       "      <td>77014</td>\n",
       "      <td>1891.0</td>\n",
       "      <td>0.0</td>\n",
       "    </tr>\n",
       "    <tr>\n",
       "      <th>10509601</th>\n",
       "      <td>2017-08-25</td>\n",
       "      <td>Harris</td>\n",
       "      <td>TX</td>\n",
       "      <td>PASADENA</td>\n",
       "      <td>77506</td>\n",
       "      <td>0.0</td>\n",
       "      <td>0.0</td>\n",
       "    </tr>\n",
       "    <tr>\n",
       "      <th>13732953</th>\n",
       "      <td>2017-09-10</td>\n",
       "      <td>Monroe</td>\n",
       "      <td>FL</td>\n",
       "      <td>KEY WEST</td>\n",
       "      <td>33040</td>\n",
       "      <td>0.0</td>\n",
       "      <td>0.0</td>\n",
       "    </tr>\n",
       "  </tbody>\n",
       "</table>\n",
       "</div>"
      ],
      "text/plain": [
       "                date  county state      city    zip  damage  reimbursements\n",
       "9882027   2016-04-25  Harris    TX   HOUSTON  77014  1891.0             0.0\n",
       "10509601  2017-08-25  Harris    TX  PASADENA  77506     0.0             0.0\n",
       "13732953  2017-09-10  Monroe    FL  KEY WEST  33040     0.0             0.0"
      ]
     },
     "execution_count": 5,
     "metadata": {},
     "output_type": "execute_result"
    }
   ],
   "source": [
    "df_fema.sample(3)"
   ]
  },
  {
   "cell_type": "code",
   "execution_count": 6,
   "id": "74d6b254-6237-4aa3-b990-d9f054732ea5",
   "metadata": {},
   "outputs": [],
   "source": [
    "try:\n",
    "    df_fema['year'] = pd.to_datetime(arg=df_fema.loc[:,'date']\n",
    "                                     ,errors='raise'\n",
    "                                     ,format=\"%Y-%m-%d\"\n",
    "                                    ).dt.year\n",
    "except:\n",
    "    print('that ain\\'t it man')"
   ]
  },
  {
   "cell_type": "code",
   "execution_count": 7,
   "id": "3fe71150-4c21-44cc-a2d1-e288558256f3",
   "metadata": {},
   "outputs": [
    {
     "name": "stdout",
     "output_type": "stream",
     "text": [
      "<class 'pandas.core.frame.DataFrame'>\n",
      "RangeIndex: 20644383 entries, 0 to 20644382\n",
      "Data columns (total 8 columns):\n",
      " #   Column          Dtype  \n",
      "---  ------          -----  \n",
      " 0   date            object \n",
      " 1   county          object \n",
      " 2   state           object \n",
      " 3   city            object \n",
      " 4   zip             object \n",
      " 5   damage          float64\n",
      " 6   reimbursements  float64\n",
      " 7   year            int64  \n",
      "dtypes: float64(2), int64(1), object(5)\n",
      "memory usage: 1.2+ GB\n"
     ]
    }
   ],
   "source": [
    "df_fema.info()"
   ]
  },
  {
   "cell_type": "code",
   "execution_count": 8,
   "id": "b2643cbf-d7aa-4c0f-a589-288e9ba73d05",
   "metadata": {},
   "outputs": [],
   "source": [
    "df2_fema = df_fema.groupby(by=['state','county','year'], as_index=False)\\\n",
    "                    .agg(tot_reim = ('reimbursements','sum')\n",
    "                         ,cnt_req = ('reimbursements','count')\n",
    "                        ).dropna()"
   ]
  },
  {
   "cell_type": "code",
   "execution_count": 9,
   "id": "3238c2e6-b0a4-4f6a-8e9d-b974331f7817",
   "metadata": {},
   "outputs": [
    {
     "data": {
      "text/html": [
       "<div>\n",
       "<style scoped>\n",
       "    .dataframe tbody tr th:only-of-type {\n",
       "        vertical-align: middle;\n",
       "    }\n",
       "\n",
       "    .dataframe tbody tr th {\n",
       "        vertical-align: top;\n",
       "    }\n",
       "\n",
       "    .dataframe thead th {\n",
       "        text-align: right;\n",
       "    }\n",
       "</style>\n",
       "<table border=\"1\" class=\"dataframe\">\n",
       "  <thead>\n",
       "    <tr style=\"text-align: right;\">\n",
       "      <th></th>\n",
       "      <th>state</th>\n",
       "      <th>county</th>\n",
       "      <th>year</th>\n",
       "      <th>tot_reim</th>\n",
       "      <th>cnt_req</th>\n",
       "    </tr>\n",
       "  </thead>\n",
       "  <tbody>\n",
       "    <tr>\n",
       "      <th>8962</th>\n",
       "      <td>WI</td>\n",
       "      <td>Shawano</td>\n",
       "      <td>2020</td>\n",
       "      <td>0.0</td>\n",
       "      <td>63</td>\n",
       "    </tr>\n",
       "    <tr>\n",
       "      <th>4437</th>\n",
       "      <td>MS</td>\n",
       "      <td>Alcorn</td>\n",
       "      <td>2020</td>\n",
       "      <td>0.0</td>\n",
       "      <td>178</td>\n",
       "    </tr>\n",
       "    <tr>\n",
       "      <th>763</th>\n",
       "      <td>CA</td>\n",
       "      <td>Solano</td>\n",
       "      <td>2020</td>\n",
       "      <td>988216.4</td>\n",
       "      <td>1685</td>\n",
       "    </tr>\n",
       "  </tbody>\n",
       "</table>\n",
       "</div>"
      ],
      "text/plain": [
       "     state   county  year  tot_reim  cnt_req\n",
       "8962    WI  Shawano  2020       0.0       63\n",
       "4437    MS   Alcorn  2020       0.0      178\n",
       "763     CA   Solano  2020  988216.4     1685"
      ]
     },
     "execution_count": 9,
     "metadata": {},
     "output_type": "execute_result"
    }
   ],
   "source": [
    "df2_fema.sample(3)"
   ]
  },
  {
   "cell_type": "code",
   "execution_count": 10,
   "id": "78f3ea0e-adef-4a60-910f-301aa78189fd",
   "metadata": {},
   "outputs": [
    {
     "name": "stdout",
     "output_type": "stream",
     "text": [
      "<class 'pandas.core.frame.DataFrame'>\n",
      "Int64Index: 9198 entries, 0 to 9221\n",
      "Data columns (total 5 columns):\n",
      " #   Column    Non-Null Count  Dtype  \n",
      "---  ------    --------------  -----  \n",
      " 0   state     9198 non-null   object \n",
      " 1   county    9198 non-null   object \n",
      " 2   year      9198 non-null   int64  \n",
      " 3   tot_reim  9198 non-null   float64\n",
      " 4   cnt_req   9198 non-null   int64  \n",
      "dtypes: float64(1), int64(2), object(2)\n",
      "memory usage: 431.2+ KB\n"
     ]
    }
   ],
   "source": [
    "df2_fema.info()"
   ]
  },
  {
   "cell_type": "markdown",
   "id": "87429c4e-704c-4bff-93d8-124f869bbd97",
   "metadata": {},
   "source": [
    "# Fit a model for each year to cluster into: low,med,high"
   ]
  },
  {
   "cell_type": "code",
   "execution_count": 57,
   "id": "982f414c-5949-4d8c-9112-115bce19ed54",
   "metadata": {},
   "outputs": [],
   "source": [
    "k = 3\n",
    "h = int(18/k)\n",
    "fig, ax = plt.subplots(h, k, figsize=(15, h*3.5))\n",
    "import warnings\n",
    "warnings.filterwarnings('ignore')\n",
    "\n",
    "for i,y in enumerate(range(2005,2023)):\n",
    "    X = pd.DataFrame(\n",
    "        MinMaxScaler().fit_transform(df2_fema.loc[df2_fema.loc[:,'year']==y,['tot_reim','cnt_req']])\n",
    "        ,columns=['tot_reim','cnt_req']\n",
    "    )\n",
    "    mdl = KMeans(n_clusters=3,n_init='auto').fit(X)\n",
    "    \n",
    "    X.loc[:,'cluster'] = mdl.labels_\n",
    "    X = X.astype({'cluster':'int16'})\n",
    "    X.loc[:,'type'] = 'point'\n",
    "\n",
    "    X_ = pd.DataFrame(mdl.cluster_centers_\n",
    "                      ,columns=['tot_reim','cnt_req']\n",
    "                     )\n",
    "    X_.loc[:,'cluster'] = pd.Series(np.arange(0,3))\n",
    "    X_.loc[:,'cluster_l2'] = (X_.loc[:,'tot_reim']**2 + X_.loc[:,'cnt_req']**2)**0.5\n",
    "    X_.loc[:,'cluster_rnk'] = X_.loc[:,'cluster_l2'].rank().astype({'cluster_l2':'int8'}\n",
    "                                                                  )\n",
    "    X_.loc[:,'type'] = 'center'\n",
    "    \n",
    "    X = pd.merge(X\n",
    "                 ,X_.loc[:,['cluster','cluster_rnk']]\n",
    "                 ,how = 'left'\n",
    "                 ,left_on = 'cluster'\n",
    "                 ,right_on = 'cluster'\n",
    "                 )\n",
    "    sns.set_style('whitegrid')\n",
    "    sns.scatterplot(data = pd.concat([X,X_.drop(columns = 'cluster_l2')])\n",
    "                    ,x = 'tot_reim'\n",
    "                    ,y = 'cnt_req'\n",
    "                    ,hue = 'cluster_rnk'\n",
    "                    ,style = 'type'\n",
    "                    ,palette = 'Set2'\n",
    "                    ,ax=ax[int(i/k),i%k]\n",
    "                   )\n",
    "    ax[int(i/k),i%k].set(ylabel='Reimbursement Requests (ratio)'\n",
    "                         ,xlabel='Reimbursement Costs (ratio)'\n",
    "                         ,title = 'Year: {}'.format(str(y))\n",
    "                        )\n",
    "    \n",
    "fig.subplots_adjust(hspace=0.35,wspace=0.2)\n",
    "fig.suptitle('State,County FEMA Flood Risk Clustering (3=high,2=med,1=low)',y=0.915)\n",
    "\n",
    "path = os.path.join(os.getcwd(),'figs')\n",
    "filename = 'y-o-y_cluster_all' + '.png'\n",
    "\n",
    "if not os.path.exists(path):\n",
    "    os.makedirs(path)\n",
    "plt.savefig(fname=os.path.join(path,filename))\n",
    "plt.close(fig)"
   ]
  },
  {
   "cell_type": "code",
   "execution_count": null,
   "id": "60823096-a0c6-44e6-a730-672470f82bf7",
   "metadata": {},
   "outputs": [],
   "source": []
  }
 ],
 "metadata": {
  "kernelspec": {
   "display_name": "Python [conda env:ML_gpu]",
   "language": "python",
   "name": "conda-env-ML_gpu-py"
  },
  "language_info": {
   "codemirror_mode": {
    "name": "ipython",
    "version": 3
   },
   "file_extension": ".py",
   "mimetype": "text/x-python",
   "name": "python",
   "nbconvert_exporter": "python",
   "pygments_lexer": "ipython3",
   "version": "3.10.9"
  }
 },
 "nbformat": 4,
 "nbformat_minor": 5
}
